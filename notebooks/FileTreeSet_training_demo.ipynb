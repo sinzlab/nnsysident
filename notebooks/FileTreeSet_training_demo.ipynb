{
 "cells": [
  {
   "cell_type": "markdown",
   "metadata": {},
   "source": [
    "# Test Notebook for Training on the FileTreeSet"
   ]
  },
  {
   "cell_type": "code",
   "execution_count": null,
   "metadata": {},
   "outputs": [],
   "source": [
    "import datajoint as dj\n",
    "\n",
    "import os\n",
    "import torch\n",
    "import numpy as np\n",
    "import pickle \n",
    "\n",
    "import nnfabrik\n",
    "from nnfabrik import main, builder\n",
    "\n",
    "import nnvision"
   ]
  },
  {
   "cell_type": "markdown",
   "metadata": {},
   "source": [
    "# Get Dataloader"
   ]
  },
  {
   "cell_type": "markdown",
   "metadata": {},
   "source": [
    "## StaticImageSet"
   ]
  },
  {
   "cell_type": "code",
   "execution_count": null,
   "metadata": {},
   "outputs": [],
   "source": [
    "# change path here\n",
    "paths = ['/data/mouse/static22564-2-13-preproc0.h5']"
   ]
  },
  {
   "cell_type": "code",
   "execution_count": null,
   "metadata": {},
   "outputs": [],
   "source": [
    "dataset_fn = 'mouse_static_loaders'\n",
    "dataset_config = dict(\n",
    "    paths=paths,\n",
    "    batch_size=64,\n",
    "    normalize=True,\n",
    ")\n",
    "dataloaders = builder.get_data(dataset_fn, dataset_config)"
   ]
  },
  {
   "cell_type": "markdown",
   "metadata": {},
   "source": [
    "## FileTreeSet"
   ]
  },
  {
   "cell_type": "code",
   "execution_count": null,
   "metadata": {},
   "outputs": [],
   "source": [
    "# change path \n",
    "paths = ['/data/mouse/static22564-2-13-preproc0/']"
   ]
  },
  {
   "cell_type": "code",
   "execution_count": 22,
   "metadata": {},
   "outputs": [],
   "source": [
    "dataset_fn = 'nnvision.datasets.mouse_static_loaders'\n",
    "dataset_config = dict(\n",
    "    paths=paths,\n",
    "    batch_size=64,\n",
    "    normalize=True,\n",
    "    file_tree=True,\n",
    ")\n",
    "dataloaders = builder.get_data(dataset_fn, dataset_config)"
   ]
  },
  {
   "cell_type": "markdown",
   "metadata": {},
   "source": [
    "# Get NNkonsti Model"
   ]
  },
  {
   "cell_type": "code",
   "execution_count": null,
   "metadata": {},
   "outputs": [],
   "source": [
    "model_fn = 'nnvision.models.se_core_gauss_readout'\n",
    "model_config = {\n",
    "   'pad_input': False,\n",
    "   'stack': -1,\n",
    "   'layers':4,\n",
    "   'input_kern': 9,\n",
    "   'gamma_input': 6.3831,\n",
    "   'gamma_readout': 0.0076,\n",
    "   'hidden_dilation': 1,\n",
    "   'hidden_kern': 7,\n",
    "   'hidden_channels': 64,\n",
    "   'n_se_blocks': 0,\n",
    "   'depth_separable': True,\n",
    "}\n",
    "model = builder.get_model(model_fn=model_fn, \n",
    "                          model_config=model_config, \n",
    "                          dataloaders=dataloaders, \n",
    "                          seed=1000)"
   ]
  },
  {
   "cell_type": "markdown",
   "metadata": {},
   "source": [
    "# Get Trainer"
   ]
  },
  {
   "cell_type": "code",
   "execution_count": null,
   "metadata": {},
   "outputs": [],
   "source": [
    "trainer_fn = 'nnvision.training.nnvision_trainer'\n",
    "trainer_config = dict(max_iter=100,\n",
    "                      verbose=False, \n",
    "                      lr_decay_steps=4,\n",
    "                      avg_loss=False, \n",
    "                      patience=5,\n",
    "                      lr_init=.0041)\n",
    "trainer = builder.get_trainer(trainer_fn, trainer_config)"
   ]
  },
  {
   "cell_type": "markdown",
   "metadata": {},
   "source": [
    "# Run Training"
   ]
  },
  {
   "cell_type": "code",
   "execution_count": null,
   "metadata": {},
   "outputs": [],
   "source": [
    "score, output, model_state = trainer(model=model, dataloaders=dataloaders, seed=1000)"
   ]
  }
 ],
 "metadata": {
  "kernelspec": {
   "display_name": "Python 3",
   "language": "python",
   "name": "python3"
  },
  "language_info": {
   "codemirror_mode": {
    "name": "ipython",
    "version": 3
   },
   "file_extension": ".py",
   "mimetype": "text/x-python",
   "name": "python",
   "nbconvert_exporter": "python",
   "pygments_lexer": "ipython3",
   "version": "3.8.0"
  },
  "pycharm": {
   "stem_cell": {
    "cell_type": "raw",
    "source": [],
    "metadata": {
     "collapsed": false
    }
   }
  }
 },
 "nbformat": 4,
 "nbformat_minor": 4
}
