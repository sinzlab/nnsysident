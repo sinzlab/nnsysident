{
 "cells": [
  {
   "cell_type": "markdown",
   "metadata": {},
   "source": [
    "# Demo Notebook how to run models on static mouse datasets"
   ]
  },
  {
   "cell_type": "code",
   "execution_count": 1,
   "metadata": {},
   "outputs": [],
   "source": [
    "%matplotlib inline\n",
    "%load_ext autoreload\n",
    "%autoreload 2 "
   ]
  },
  {
   "cell_type": "code",
   "execution_count": 2,
   "metadata": {},
   "outputs": [],
   "source": [
    "import os\n",
    "import datajoint as dj\n",
    "dj.config['database.host'] = os.environ['DJ_HOST']\n",
    "dj.config['database.user'] = os.environ['DJ_USER']\n",
    "dj.config['database.password'] = os.environ['DJ_PASS']\n",
    "dj.config['enable_python_native_blobs'] = True\n",
    "\n",
    "name = \"test\"\n",
    "dj.config['schema_name'] = f\"konstantin_nnsysident_{name}\""
   ]
  },
  {
   "cell_type": "code",
   "execution_count": 8,
   "metadata": {},
   "outputs": [],
   "source": [
    "import torch\n",
    "import numpy as np\n",
    "import pickle \n",
    "import pandas as pd\n",
    "from collections import OrderedDict, Iterable\n",
    "import matplotlib.pyplot as plt\n",
    "\n",
    "import nnfabrik\n",
    "from nnfabrik.main import *\n",
    "from nnfabrik import builder\n",
    "\n",
    "from nnsysident.tables.experiments import *\n",
    "from nnsysident.datasets.mouse_loaders import static_shared_loaders\n",
    "from nnsysident.datasets.mouse_loaders import static_loaders\n",
    "from nnsysident.datasets.mouse_loaders import static_loader"
   ]
  },
  {
   "cell_type": "markdown",
   "metadata": {},
   "source": [
    "# Get Dataloader"
   ]
  },
  {
   "cell_type": "code",
   "execution_count": 4,
   "metadata": {},
   "outputs": [
    {
     "name": "stdout",
     "output_type": "stream",
     "text": [
      "data/static22564-2-12-preproc0 exists already. Not unpacking data/static22564-2-12-preproc0.zip\n",
      "data/static22564-2-13-preproc0 exists already. Not unpacking data/static22564-2-13-preproc0.zip\n",
      "data/static22564-3-8-preproc0 exists already. Not unpacking data/static22564-3-8-preproc0.zip\n",
      "data/static22564-3-12-preproc0 exists already. Not unpacking data/static22564-3-12-preproc0.zip\n",
      "data/static22564-2-12-preproc0 exists already. Not unpacking data/static22564-2-12-preproc0.zip\n",
      "data/static22564-2-13-preproc0 exists already. Not unpacking data/static22564-2-13-preproc0.zip\n",
      "data/static22564-3-8-preproc0 exists already. Not unpacking data/static22564-3-8-preproc0.zip\n",
      "data/static22564-3-12-preproc0 exists already. Not unpacking data/static22564-3-12-preproc0.zip\n"
     ]
    }
   ],
   "source": [
    "# change path here\n",
    "paths = ['data/static22564-2-12-preproc0.zip',\n",
    "                     'data/static22564-2-13-preproc0.zip',\n",
    "                     'data/static22564-3-8-preproc0.zip',\n",
    "                     'data/static22564-3-12-preproc0.zip']\n",
    "\n",
    "#paths = ['data/static22564-2-12-preproc0.zip']\n",
    "dataset_fn = 'nnsysident.datasets.mouse_loaders.static_shared_loaders'\n",
    "dataset_config = dict(\n",
    "    paths=paths,\n",
    "    batch_size=64,\n",
    "    seed=1,\n",
    "    #image_n=50,\n",
    "    #image_base_seed=1,\n",
    "    multi_match_n=972,\n",
    "    multi_match_base_seed=1,\n",
    "    exclude_multi_match_n = 3625,\n",
    "\n",
    ")\n",
    "\n",
    "dataloaders = builder.get_data(dataset_fn, dataset_config)"
   ]
  },
  {
   "cell_type": "markdown",
   "metadata": {},
   "source": [
    "# Get Model"
   ]
  },
  {
   "cell_type": "markdown",
   "metadata": {},
   "source": [
    "### The New gaussian readout: change gauss_type for the different modes"
   ]
  },
  {
   "cell_type": "code",
   "execution_count": 5,
   "metadata": {},
   "outputs": [],
   "source": [
    "model_fn = 'nnsysident.models.models.se2d_fullgaussian2d'\n",
    "\n",
    "model_config = {#'share_features': True,\n",
    "                #'share_transform': True,\n",
    "                 'init_mu_range': 0.55,\n",
    "                 'init_sigma': 0.4,\n",
    "                 'input_kern': 15,\n",
    "                 'hidden_kern': 13,\n",
    "                 'gamma_input': 1.0,\n",
    "                 'gamma_readout': 0.333593, #2.117604964706911, #626.6499356203459, # 2.117604964706911, #626.6499356203459\n",
    "                 'grid_mean_predictor': {'type': 'cortex',\n",
    "                                          'input_dimensions': 2,\n",
    "                                          'hidden_layers': 0,\n",
    "                                          'hidden_features': 0,\n",
    "                                          'final_tanh': False,\n",
    "                                        }}\n",
    "\n",
    "\n",
    "model = builder.get_model(model_fn=model_fn, model_config=model_config, dataloaders=dataloaders, seed=1)\n",
    "model_real = builder.get_model(model_fn=model_fn, model_config=model_config, dataloaders=dataloaders, seed=1)\n",
    "model_start = builder.get_model(model_fn=model_fn, model_config=model_config, dataloaders=dataloaders, seed=1)"
   ]
  },
  {
   "cell_type": "code",
   "execution_count": null,
   "metadata": {},
   "outputs": [],
   "source": [
    "#core_dict = OrderedDict([(k, v) for k, v in torch.load('dfc6a9fbcca790d7a6b59ff787d96356.pth.tar').items() if k[0:5] == 'core.'])\n",
    "core_dict = torch.load('21ee7ec25ed7fc959838386c61f5c91a.pth.tar')\n",
    "\n",
    "def get_grids(my_model):\n",
    "    grids = {}\n",
    "    for key, readout in my_model.readout.items():\n",
    "        grid = readout.grid.squeeze().cpu().data.numpy()\n",
    "        grids[key] = grid\n",
    "    return grids\n",
    "\n",
    "list_of_load = [] #'scales', '_features' ,'mu_transform.0.weight', 'mu_transform.0.bias'\n",
    "list_of_detach = []\n",
    "\n",
    "\n",
    "\n",
    "model_real.load_state_dict(core_dict, strict=False)\n",
    "real_grids = get_grids(model_real)\n",
    "\n",
    "remove=[]\n",
    "keep=[]\n",
    "for key in core_dict.keys():\n",
    "    name = '.'.join(key.split('.')[2:])\n",
    "    if key.split('.')[0] == 'readout': \n",
    "        if not np.isin(name, list_of_load):\n",
    "            print('Not loading:    {}'.format(key))\n",
    "            remove.append(key)\n",
    "        else:\n",
    "            keep.append(key)\n",
    "for key in keep:\n",
    "    print('Loading:  {}'.format(key))\n",
    "\n",
    "for k in remove: del core_dict[k]\n",
    "model_start.load_state_dict(core_dict, strict=False)\n",
    "start_grids = get_grids(model_start)\n",
    "\n",
    "\n",
    "\n",
    "model.load_state_dict(core_dict, strict=False)\n",
    "\n",
    "for param in model.named_parameters():\n",
    "    name = '.'.join(param[0].split('.')[2:])\n",
    "    if param[0].split('.')[0] == 'readout':\n",
    "        if np.isin(name, list_of_detach):\n",
    "            print('detaching:    {}'.format(param[0]))\n",
    "            param[1].requires_grad = False"
   ]
  },
  {
   "cell_type": "markdown",
   "metadata": {},
   "source": [
    "# Get Trainer"
   ]
  },
  {
   "cell_type": "code",
   "execution_count": 6,
   "metadata": {},
   "outputs": [],
   "source": [
    "trainer_fn = 'nnsysident.training.trainers.standard_trainer'\n",
    "trainer_config = dict(track_training=True) #detach_core=True, \n",
    "trainer = builder.get_trainer(trainer_fn, trainer_config)"
   ]
  },
  {
   "cell_type": "markdown",
   "metadata": {},
   "source": [
    "# Run Training"
   ]
  },
  {
   "cell_type": "code",
   "execution_count": 7,
   "metadata": {},
   "outputs": [
    {
     "name": "stdout",
     "output_type": "stream",
     "text": [
      "=======================================\n",
      "correlation -0.0005704157\n",
      "poisson_loss 2396836.0\n"
     ]
    },
    {
     "name": "stderr",
     "output_type": "stream",
     "text": [
      "Epoch 1: 100%|██████████| 280/280 [00:27<00:00, 10.34it/s]\n"
     ]
    },
    {
     "name": "stdout",
     "output_type": "stream",
     "text": [
      "[001|00/05] ---> 0.11309714615345001\n",
      "=======================================\n",
      "correlation 0.113097146\n",
      "poisson_loss 1220247.9\n"
     ]
    },
    {
     "name": "stderr",
     "output_type": "stream",
     "text": [
      "Epoch 2: 100%|██████████| 280/280 [00:10<00:00, 27.54it/s]\n"
     ]
    },
    {
     "name": "stdout",
     "output_type": "stream",
     "text": [
      "[002|00/05] ---> 0.1547965109348297\n",
      "=======================================\n",
      "correlation 0.15479651\n",
      "poisson_loss 1188704.8\n"
     ]
    },
    {
     "name": "stderr",
     "output_type": "stream",
     "text": [
      "Epoch 3: 100%|██████████| 280/280 [00:10<00:00, 27.36it/s]\n"
     ]
    },
    {
     "name": "stdout",
     "output_type": "stream",
     "text": [
      "[003|00/05] ---> 0.21514227986335754\n",
      "=======================================\n",
      "correlation 0.21514228\n",
      "poisson_loss 1134204.5\n"
     ]
    },
    {
     "name": "stderr",
     "output_type": "stream",
     "text": [
      "Epoch 4: 100%|██████████| 280/280 [00:09<00:00, 29.34it/s]\n"
     ]
    },
    {
     "name": "stdout",
     "output_type": "stream",
     "text": [
      "[004|00/05] ---> 0.25191575288772583\n",
      "=======================================\n",
      "correlation 0.25191575\n",
      "poisson_loss 1103319.2\n"
     ]
    },
    {
     "name": "stderr",
     "output_type": "stream",
     "text": [
      "Epoch 5: 100%|██████████| 280/280 [00:09<00:00, 28.66it/s]\n"
     ]
    },
    {
     "name": "stdout",
     "output_type": "stream",
     "text": [
      "[005|00/05] ---> 0.27379804849624634\n",
      "=======================================\n",
      "correlation 0.27379805\n",
      "poisson_loss 1082897.4\n"
     ]
    },
    {
     "name": "stderr",
     "output_type": "stream",
     "text": [
      "Epoch 6: 100%|██████████| 280/280 [00:09<00:00, 28.82it/s]\n"
     ]
    },
    {
     "name": "stdout",
     "output_type": "stream",
     "text": [
      "[006|00/05] ---> 0.2898118495941162\n",
      "=======================================\n",
      "correlation 0.28981185\n",
      "poisson_loss 1069848.0\n"
     ]
    },
    {
     "name": "stderr",
     "output_type": "stream",
     "text": [
      "Epoch 7: 100%|██████████| 280/280 [00:09<00:00, 28.25it/s]\n"
     ]
    },
    {
     "name": "stdout",
     "output_type": "stream",
     "text": [
      "[007|00/05] ---> 0.3024550676345825\n",
      "=======================================\n",
      "correlation 0.30245507\n",
      "poisson_loss 1057255.0\n"
     ]
    },
    {
     "name": "stderr",
     "output_type": "stream",
     "text": [
      "Epoch 8: 100%|██████████| 280/280 [00:09<00:00, 29.25it/s]\n"
     ]
    },
    {
     "name": "stdout",
     "output_type": "stream",
     "text": [
      "[008|00/05] ---> 0.3098908066749573\n",
      "=======================================\n",
      "correlation 0.3098908\n",
      "poisson_loss 1051206.6\n"
     ]
    },
    {
     "name": "stderr",
     "output_type": "stream",
     "text": [
      "Epoch 9: 100%|██████████| 280/280 [00:09<00:00, 28.06it/s]\n"
     ]
    },
    {
     "name": "stdout",
     "output_type": "stream",
     "text": [
      "[009|00/05] ---> 0.31490558385849\n",
      "=======================================\n",
      "correlation 0.31490558\n",
      "poisson_loss 1044440.75\n"
     ]
    },
    {
     "name": "stderr",
     "output_type": "stream",
     "text": [
      "Epoch 10: 100%|██████████| 280/280 [00:09<00:00, 29.19it/s]\n"
     ]
    },
    {
     "name": "stdout",
     "output_type": "stream",
     "text": [
      "[010|00/05] ---> 0.3183201551437378\n",
      "=======================================\n",
      "correlation 0.31832016\n",
      "poisson_loss 1042652.0\n"
     ]
    },
    {
     "name": "stderr",
     "output_type": "stream",
     "text": [
      "Epoch 11: 100%|██████████| 280/280 [00:09<00:00, 28.32it/s]\n"
     ]
    },
    {
     "name": "stdout",
     "output_type": "stream",
     "text": [
      "[011|00/05] ---> 0.3235459625720978\n",
      "=======================================\n",
      "correlation 0.32354596\n",
      "poisson_loss 1036816.75\n"
     ]
    },
    {
     "name": "stderr",
     "output_type": "stream",
     "text": [
      "Epoch 12: 100%|██████████| 280/280 [00:09<00:00, 29.21it/s]\n"
     ]
    },
    {
     "name": "stdout",
     "output_type": "stream",
     "text": [
      "[012|00/05] ---> 0.3249955177307129\n",
      "=======================================\n",
      "correlation 0.32499552\n",
      "poisson_loss 1036295.2\n"
     ]
    },
    {
     "name": "stderr",
     "output_type": "stream",
     "text": [
      "Epoch 13: 100%|██████████| 280/280 [00:09<00:00, 29.10it/s]\n"
     ]
    },
    {
     "name": "stdout",
     "output_type": "stream",
     "text": [
      "[013|00/05] ---> 0.32829827070236206\n",
      "=======================================\n",
      "correlation 0.32829827\n",
      "poisson_loss 1036158.9\n"
     ]
    },
    {
     "name": "stderr",
     "output_type": "stream",
     "text": [
      "Epoch 14: 100%|██████████| 280/280 [00:09<00:00, 28.81it/s]\n"
     ]
    },
    {
     "name": "stdout",
     "output_type": "stream",
     "text": [
      "[014|00/05] ---> 0.3322948217391968\n",
      "=======================================\n",
      "correlation 0.33229482\n",
      "poisson_loss 1030575.9\n"
     ]
    },
    {
     "name": "stderr",
     "output_type": "stream",
     "text": [
      "Epoch 15: 100%|██████████| 280/280 [00:09<00:00, 28.59it/s]\n"
     ]
    },
    {
     "name": "stdout",
     "output_type": "stream",
     "text": [
      "[015|01/05] -/-> 0.3310270607471466\n",
      "=======================================\n",
      "correlation 0.33102706\n",
      "poisson_loss 1029810.1\n"
     ]
    },
    {
     "name": "stderr",
     "output_type": "stream",
     "text": [
      "Epoch 16: 100%|██████████| 280/280 [00:09<00:00, 28.76it/s]\n"
     ]
    },
    {
     "name": "stdout",
     "output_type": "stream",
     "text": [
      "[016|01/05] ---> 0.3354929983615875\n",
      "=======================================\n",
      "correlation 0.335493\n",
      "poisson_loss 1027275.6\n"
     ]
    },
    {
     "name": "stderr",
     "output_type": "stream",
     "text": [
      "Epoch 17: 100%|██████████| 280/280 [00:09<00:00, 28.79it/s]\n"
     ]
    },
    {
     "name": "stdout",
     "output_type": "stream",
     "text": [
      "[017|00/05] ---> 0.3389400243759155\n",
      "=======================================\n",
      "correlation 0.33894002\n",
      "poisson_loss 1024027.1\n"
     ]
    },
    {
     "name": "stderr",
     "output_type": "stream",
     "text": [
      "Epoch 18: 100%|██████████| 280/280 [00:09<00:00, 28.74it/s]\n"
     ]
    },
    {
     "name": "stdout",
     "output_type": "stream",
     "text": [
      "[018|01/05] -/-> 0.33787211775779724\n",
      "=======================================\n",
      "correlation 0.33787212\n",
      "poisson_loss 1024703.3\n"
     ]
    },
    {
     "name": "stderr",
     "output_type": "stream",
     "text": [
      "Epoch 19: 100%|██████████| 280/280 [00:09<00:00, 28.72it/s]\n"
     ]
    },
    {
     "name": "stdout",
     "output_type": "stream",
     "text": [
      "[019|01/05] ---> 0.34107255935668945\n",
      "=======================================\n",
      "correlation 0.34107256\n",
      "poisson_loss 1022772.44\n"
     ]
    },
    {
     "name": "stderr",
     "output_type": "stream",
     "text": [
      "Epoch 20: 100%|██████████| 280/280 [00:09<00:00, 29.22it/s]\n"
     ]
    },
    {
     "name": "stdout",
     "output_type": "stream",
     "text": [
      "[020|00/05] ---> 0.34278494119644165\n",
      "=======================================\n",
      "correlation 0.34278494\n",
      "poisson_loss 1019761.4\n"
     ]
    },
    {
     "name": "stderr",
     "output_type": "stream",
     "text": [
      "Epoch 21: 100%|██████████| 280/280 [00:09<00:00, 29.17it/s]\n"
     ]
    },
    {
     "name": "stdout",
     "output_type": "stream",
     "text": [
      "[021|00/05] ---> 0.3437415361404419\n",
      "=======================================\n",
      "correlation 0.34374154\n",
      "poisson_loss 1019640.6\n"
     ]
    },
    {
     "name": "stderr",
     "output_type": "stream",
     "text": [
      "Epoch 22: 100%|██████████| 280/280 [00:09<00:00, 29.21it/s]\n"
     ]
    },
    {
     "name": "stdout",
     "output_type": "stream",
     "text": [
      "[022|01/05] -/-> 0.3418370485305786\n",
      "=======================================\n",
      "correlation 0.34183705\n",
      "poisson_loss 1023405.5\n"
     ]
    },
    {
     "name": "stderr",
     "output_type": "stream",
     "text": [
      "Epoch 23: 100%|██████████| 280/280 [00:09<00:00, 28.82it/s]\n"
     ]
    },
    {
     "name": "stdout",
     "output_type": "stream",
     "text": [
      "[023|01/05] ---> 0.3459073603153229\n",
      "=======================================\n",
      "correlation 0.34590736\n",
      "poisson_loss 1017033.75\n"
     ]
    },
    {
     "name": "stderr",
     "output_type": "stream",
     "text": [
      "Epoch 24: 100%|██████████| 280/280 [00:09<00:00, 28.74it/s]\n"
     ]
    },
    {
     "name": "stdout",
     "output_type": "stream",
     "text": [
      "[024|00/05] ---> 0.34656208753585815\n",
      "=======================================\n",
      "correlation 0.3465621\n",
      "poisson_loss 1017594.2\n"
     ]
    },
    {
     "name": "stderr",
     "output_type": "stream",
     "text": [
      "Epoch 25: 100%|██████████| 280/280 [00:09<00:00, 29.13it/s]\n"
     ]
    },
    {
     "name": "stdout",
     "output_type": "stream",
     "text": [
      "[025|00/05] ---> 0.3477868437767029\n",
      "=======================================\n",
      "correlation 0.34778684\n",
      "poisson_loss 1015707.9\n"
     ]
    },
    {
     "name": "stderr",
     "output_type": "stream",
     "text": [
      "Epoch 26: 100%|██████████| 280/280 [00:09<00:00, 29.21it/s]\n"
     ]
    },
    {
     "name": "stdout",
     "output_type": "stream",
     "text": [
      "[026|00/05] ---> 0.35047584772109985\n",
      "=======================================\n",
      "correlation 0.35047585\n",
      "poisson_loss 1013620.9\n"
     ]
    },
    {
     "name": "stderr",
     "output_type": "stream",
     "text": [
      "Epoch 27: 100%|██████████| 280/280 [00:09<00:00, 29.20it/s]\n"
     ]
    },
    {
     "name": "stdout",
     "output_type": "stream",
     "text": [
      "[027|01/05] -/-> 0.34939369559288025\n",
      "=======================================\n",
      "correlation 0.3493937\n",
      "poisson_loss 1015450.9\n"
     ]
    },
    {
     "name": "stderr",
     "output_type": "stream",
     "text": [
      "Epoch 28: 100%|██████████| 280/280 [00:09<00:00, 29.24it/s]\n"
     ]
    },
    {
     "name": "stdout",
     "output_type": "stream",
     "text": [
      "[028|01/05] ---> 0.3524537682533264\n",
      "=======================================\n",
      "correlation 0.35245377\n",
      "poisson_loss 1011884.9\n"
     ]
    },
    {
     "name": "stderr",
     "output_type": "stream",
     "text": [
      "Epoch 29: 100%|██████████| 280/280 [00:09<00:00, 29.12it/s]\n"
     ]
    },
    {
     "name": "stdout",
     "output_type": "stream",
     "text": [
      "[029|01/05] -/-> 0.3508850932121277\n",
      "=======================================\n",
      "correlation 0.3508851\n",
      "poisson_loss 1014482.44\n"
     ]
    },
    {
     "name": "stderr",
     "output_type": "stream",
     "text": [
      "Epoch 30: 100%|██████████| 280/280 [00:09<00:00, 28.72it/s]\n"
     ]
    },
    {
     "name": "stdout",
     "output_type": "stream",
     "text": [
      "[030|02/05] -/-> 0.3512657880783081\n",
      "=======================================\n",
      "correlation 0.3512658\n",
      "poisson_loss 1012317.75\n"
     ]
    },
    {
     "name": "stderr",
     "output_type": "stream",
     "text": [
      "Epoch 31: 100%|██████████| 280/280 [00:09<00:00, 28.86it/s]\n"
     ]
    },
    {
     "name": "stdout",
     "output_type": "stream",
     "text": [
      "[031|03/05] -/-> 0.3503999710083008\n",
      "=======================================\n",
      "correlation 0.35039997\n",
      "poisson_loss 1014537.9\n"
     ]
    },
    {
     "name": "stderr",
     "output_type": "stream",
     "text": [
      "Epoch 32: 100%|██████████| 280/280 [00:09<00:00, 29.18it/s]\n"
     ]
    },
    {
     "name": "stdout",
     "output_type": "stream",
     "text": [
      "[032|03/05] ---> 0.35305967926979065\n",
      "=======================================\n",
      "correlation 0.35305968\n",
      "poisson_loss 1012613.1\n"
     ]
    },
    {
     "name": "stderr",
     "output_type": "stream",
     "text": [
      "Epoch 33: 100%|██████████| 280/280 [00:09<00:00, 29.20it/s]\n"
     ]
    },
    {
     "name": "stdout",
     "output_type": "stream",
     "text": [
      "[033|01/05] -/-> 0.35215070843696594\n",
      "=======================================\n",
      "correlation 0.3521507\n",
      "poisson_loss 1011964.0\n"
     ]
    },
    {
     "name": "stderr",
     "output_type": "stream",
     "text": [
      "Epoch 34: 100%|██████████| 280/280 [00:09<00:00, 29.22it/s]\n"
     ]
    },
    {
     "name": "stdout",
     "output_type": "stream",
     "text": [
      "[034|01/05] ---> 0.3552805483341217\n",
      "=======================================\n",
      "correlation 0.35528055\n",
      "poisson_loss 1007815.0\n"
     ]
    },
    {
     "name": "stderr",
     "output_type": "stream",
     "text": [
      "Epoch 35: 100%|██████████| 280/280 [00:09<00:00, 29.20it/s]\n"
     ]
    },
    {
     "name": "stdout",
     "output_type": "stream",
     "text": [
      "[035|00/05] ---> 0.3564826250076294\n",
      "=======================================\n",
      "correlation 0.35648263\n",
      "poisson_loss 1006674.5\n"
     ]
    },
    {
     "name": "stderr",
     "output_type": "stream",
     "text": [
      "Epoch 36: 100%|██████████| 280/280 [00:09<00:00, 28.98it/s]\n"
     ]
    },
    {
     "name": "stdout",
     "output_type": "stream",
     "text": [
      "[036|00/05] ---> 0.35734444856643677\n",
      "=======================================\n",
      "correlation 0.35734445\n",
      "poisson_loss 1005073.75\n"
     ]
    },
    {
     "name": "stderr",
     "output_type": "stream",
     "text": [
      "Epoch 37: 100%|██████████| 280/280 [00:09<00:00, 28.77it/s]\n"
     ]
    },
    {
     "name": "stdout",
     "output_type": "stream",
     "text": [
      "[037|01/05] -/-> 0.35639575123786926\n",
      "=======================================\n",
      "correlation 0.35639575\n",
      "poisson_loss 1007119.3\n"
     ]
    },
    {
     "name": "stderr",
     "output_type": "stream",
     "text": [
      "Epoch 38: 100%|██████████| 280/280 [00:09<00:00, 28.82it/s]\n"
     ]
    },
    {
     "name": "stdout",
     "output_type": "stream",
     "text": [
      "[038|01/05] ---> 0.35753652453422546\n",
      "=======================================\n",
      "correlation 0.35753652\n",
      "poisson_loss 1007135.3\n"
     ]
    },
    {
     "name": "stderr",
     "output_type": "stream",
     "text": [
      "Epoch 39: 100%|██████████| 280/280 [00:09<00:00, 29.08it/s]\n"
     ]
    },
    {
     "name": "stdout",
     "output_type": "stream",
     "text": [
      "[039|01/05] -/-> 0.35676392912864685\n",
      "=======================================\n",
      "correlation 0.35676393\n",
      "poisson_loss 1006939.75\n"
     ]
    },
    {
     "name": "stderr",
     "output_type": "stream",
     "text": [
      "Epoch 40: 100%|██████████| 280/280 [00:09<00:00, 29.17it/s]\n"
     ]
    },
    {
     "name": "stdout",
     "output_type": "stream",
     "text": [
      "[040|02/05] -/-> 0.35747095942497253\n",
      "=======================================\n",
      "correlation 0.35747096\n",
      "poisson_loss 1005651.0\n"
     ]
    },
    {
     "name": "stderr",
     "output_type": "stream",
     "text": [
      "Epoch 41: 100%|██████████| 280/280 [00:09<00:00, 29.18it/s]\n"
     ]
    },
    {
     "name": "stdout",
     "output_type": "stream",
     "text": [
      "[041|03/05] -/-> 0.3563075661659241\n",
      "=======================================\n",
      "correlation 0.35630757\n",
      "poisson_loss 1008416.3\n"
     ]
    },
    {
     "name": "stderr",
     "output_type": "stream",
     "text": [
      "Epoch 42: 100%|██████████| 280/280 [00:09<00:00, 29.03it/s]\n"
     ]
    },
    {
     "name": "stdout",
     "output_type": "stream",
     "text": [
      "[042|03/05] ---> 0.35770756006240845\n",
      "=======================================\n",
      "correlation 0.35770756\n",
      "poisson_loss 1005803.5\n"
     ]
    },
    {
     "name": "stderr",
     "output_type": "stream",
     "text": [
      "Epoch 43: 100%|██████████| 280/280 [00:09<00:00, 28.76it/s]\n"
     ]
    },
    {
     "name": "stdout",
     "output_type": "stream",
     "text": [
      "[043|00/05] ---> 0.3581940233707428\n",
      "=======================================\n",
      "correlation 0.35819402\n",
      "poisson_loss 1005232.7\n"
     ]
    },
    {
     "name": "stderr",
     "output_type": "stream",
     "text": [
      "Epoch 44: 100%|██████████| 280/280 [00:09<00:00, 28.94it/s]\n"
     ]
    },
    {
     "name": "stdout",
     "output_type": "stream",
     "text": [
      "[044|00/05] ---> 0.3599502146244049\n",
      "=======================================\n",
      "correlation 0.3599502\n",
      "poisson_loss 1003489.25\n"
     ]
    },
    {
     "name": "stderr",
     "output_type": "stream",
     "text": [
      "Epoch 45: 100%|██████████| 280/280 [00:09<00:00, 29.22it/s]\n"
     ]
    },
    {
     "name": "stdout",
     "output_type": "stream",
     "text": [
      "[045|01/05] -/-> 0.35809046030044556\n",
      "=======================================\n",
      "correlation 0.35809046\n",
      "poisson_loss 1008186.1\n"
     ]
    },
    {
     "name": "stderr",
     "output_type": "stream",
     "text": [
      "Epoch 46: 100%|██████████| 280/280 [00:09<00:00, 29.10it/s]\n"
     ]
    },
    {
     "name": "stdout",
     "output_type": "stream",
     "text": [
      "[046|01/05] ---> 0.36009714007377625\n",
      "=======================================\n",
      "correlation 0.36009714\n",
      "poisson_loss 1003935.75\n"
     ]
    },
    {
     "name": "stderr",
     "output_type": "stream",
     "text": [
      "Epoch 47: 100%|██████████| 280/280 [00:09<00:00, 29.23it/s]\n"
     ]
    },
    {
     "name": "stdout",
     "output_type": "stream",
     "text": [
      "[047|01/05] -/-> 0.35949793457984924\n",
      "=======================================\n",
      "correlation 0.35949793\n",
      "poisson_loss 1003772.4\n"
     ]
    },
    {
     "name": "stderr",
     "output_type": "stream",
     "text": [
      "Epoch 48: 100%|██████████| 280/280 [00:09<00:00, 28.99it/s]\n"
     ]
    },
    {
     "name": "stdout",
     "output_type": "stream",
     "text": [
      "[048|01/05] ---> 0.36060428619384766\n",
      "=======================================\n",
      "correlation 0.3606043\n",
      "poisson_loss 1004007.25\n"
     ]
    },
    {
     "name": "stderr",
     "output_type": "stream",
     "text": [
      "Epoch 49: 100%|██████████| 280/280 [00:09<00:00, 28.74it/s]\n"
     ]
    },
    {
     "name": "stdout",
     "output_type": "stream",
     "text": [
      "[049|00/05] ---> 0.3607367277145386\n",
      "=======================================\n",
      "correlation 0.36073673\n",
      "poisson_loss 1003994.0\n"
     ]
    },
    {
     "name": "stderr",
     "output_type": "stream",
     "text": [
      "Epoch 50: 100%|██████████| 280/280 [00:09<00:00, 28.86it/s]\n"
     ]
    },
    {
     "name": "stdout",
     "output_type": "stream",
     "text": [
      "[050|01/05] -/-> 0.3595927953720093\n",
      "=======================================\n",
      "correlation 0.3595928\n",
      "poisson_loss 1003886.7\n"
     ]
    },
    {
     "name": "stderr",
     "output_type": "stream",
     "text": [
      "Epoch 51: 100%|██████████| 280/280 [00:09<00:00, 29.18it/s]\n"
     ]
    },
    {
     "name": "stdout",
     "output_type": "stream",
     "text": [
      "[051|01/05] ---> 0.36121052503585815\n",
      "=======================================\n",
      "correlation 0.36121053\n",
      "poisson_loss 1002703.9\n"
     ]
    },
    {
     "name": "stderr",
     "output_type": "stream",
     "text": [
      "Epoch 52: 100%|██████████| 280/280 [00:09<00:00, 29.25it/s]\n"
     ]
    },
    {
     "name": "stdout",
     "output_type": "stream",
     "text": [
      "[052|01/05] -/-> 0.3612014651298523\n",
      "=======================================\n",
      "correlation 0.36120147\n",
      "poisson_loss 1001978.5\n"
     ]
    },
    {
     "name": "stderr",
     "output_type": "stream",
     "text": [
      "Epoch 53: 100%|██████████| 280/280 [00:09<00:00, 29.34it/s]\n"
     ]
    },
    {
     "name": "stdout",
     "output_type": "stream",
     "text": [
      "[053|02/05] -/-> 0.3594902753829956\n",
      "=======================================\n",
      "correlation 0.35949028\n",
      "poisson_loss 1004312.6\n"
     ]
    },
    {
     "name": "stderr",
     "output_type": "stream",
     "text": [
      "Epoch 54: 100%|██████████| 280/280 [00:09<00:00, 29.34it/s]\n"
     ]
    },
    {
     "name": "stdout",
     "output_type": "stream",
     "text": [
      "[054|03/05] -/-> 0.3599136173725128\n",
      "=======================================\n",
      "correlation 0.35991362\n",
      "poisson_loss 1004144.1\n"
     ]
    },
    {
     "name": "stderr",
     "output_type": "stream",
     "text": [
      "Epoch 55: 100%|██████████| 280/280 [00:09<00:00, 28.82it/s]\n"
     ]
    },
    {
     "name": "stdout",
     "output_type": "stream",
     "text": [
      "[055|04/05] -/-> 0.3566127121448517\n",
      "=======================================\n",
      "correlation 0.3566127\n",
      "poisson_loss 1008255.5\n"
     ]
    },
    {
     "name": "stderr",
     "output_type": "stream",
     "text": [
      "Epoch 56: 100%|██████████| 280/280 [00:09<00:00, 29.04it/s]\n"
     ]
    },
    {
     "name": "stdout",
     "output_type": "stream",
     "text": [
      "[056|05/05] -/-> 0.360947847366333\n",
      "Restoring best model after lr decay! 0.360948 ---> 0.361211\n",
      "=======================================\n",
      "correlation 0.36121053\n",
      "poisson_loss 1002703.9\n"
     ]
    },
    {
     "name": "stderr",
     "output_type": "stream",
     "text": [
      "Epoch 57: 100%|██████████| 280/280 [00:09<00:00, 29.38it/s]\n"
     ]
    },
    {
     "name": "stdout",
     "output_type": "stream",
     "text": [
      "Epoch    57: reducing learning rate of group 0 to 1.5000e-03.\n",
      "[057|01/05] -/-> 0.3603111505508423\n",
      "=======================================\n",
      "correlation 0.36031115\n",
      "poisson_loss 1004223.75\n"
     ]
    },
    {
     "name": "stderr",
     "output_type": "stream",
     "text": [
      "Epoch 58: 100%|██████████| 280/280 [00:09<00:00, 29.43it/s]\n"
     ]
    },
    {
     "name": "stdout",
     "output_type": "stream",
     "text": [
      "[058|01/05] ---> 0.36487531661987305\n",
      "=======================================\n",
      "correlation 0.36487532\n",
      "poisson_loss 998074.25\n"
     ]
    },
    {
     "name": "stderr",
     "output_type": "stream",
     "text": [
      "Epoch 59: 100%|██████████| 280/280 [00:09<00:00, 29.42it/s]\n"
     ]
    },
    {
     "name": "stdout",
     "output_type": "stream",
     "text": [
      "[059|01/05] -/-> 0.36428824067115784\n",
      "=======================================\n",
      "correlation 0.36428824\n",
      "poisson_loss 999784.6\n"
     ]
    },
    {
     "name": "stderr",
     "output_type": "stream",
     "text": [
      "Epoch 60: 100%|██████████| 280/280 [00:09<00:00, 29.42it/s]\n"
     ]
    },
    {
     "name": "stdout",
     "output_type": "stream",
     "text": [
      "[060|02/05] -/-> 0.3638007640838623\n",
      "=======================================\n",
      "correlation 0.36380076\n",
      "poisson_loss 1000165.06\n"
     ]
    },
    {
     "name": "stderr",
     "output_type": "stream",
     "text": [
      "Epoch 61: 100%|██████████| 280/280 [00:09<00:00, 29.41it/s]\n"
     ]
    },
    {
     "name": "stdout",
     "output_type": "stream",
     "text": [
      "[061|03/05] -/-> 0.36395028233528137\n",
      "=======================================\n",
      "correlation 0.36395028\n",
      "poisson_loss 999154.25\n"
     ]
    },
    {
     "name": "stderr",
     "output_type": "stream",
     "text": [
      "Epoch 62: 100%|██████████| 280/280 [00:09<00:00, 29.03it/s]\n"
     ]
    },
    {
     "name": "stdout",
     "output_type": "stream",
     "text": [
      "[062|04/05] -/-> 0.36237457394599915\n",
      "=======================================\n",
      "correlation 0.36237457\n",
      "poisson_loss 1004249.1\n"
     ]
    },
    {
     "name": "stderr",
     "output_type": "stream",
     "text": [
      "Epoch 63: 100%|██████████| 280/280 [00:09<00:00, 28.85it/s]\n"
     ]
    },
    {
     "name": "stdout",
     "output_type": "stream",
     "text": [
      "[063|05/05] -/-> 0.3633410334587097\n",
      "Restoring best model after lr decay! 0.363341 ---> 0.364875\n",
      "=======================================\n",
      "correlation 0.36487532\n",
      "poisson_loss 998074.25\n"
     ]
    },
    {
     "name": "stderr",
     "output_type": "stream",
     "text": [
      "Epoch 64: 100%|██████████| 280/280 [00:09<00:00, 29.26it/s]\n"
     ]
    },
    {
     "name": "stdout",
     "output_type": "stream",
     "text": [
      "Epoch    64: reducing learning rate of group 0 to 4.5000e-04.\n",
      "[064|01/05] -/-> 0.36357128620147705\n",
      "=======================================\n",
      "correlation 0.3635713\n",
      "poisson_loss 999771.25\n"
     ]
    },
    {
     "name": "stderr",
     "output_type": "stream",
     "text": [
      "Epoch 65: 100%|██████████| 280/280 [00:09<00:00, 29.41it/s]\n"
     ]
    },
    {
     "name": "stdout",
     "output_type": "stream",
     "text": [
      "[065|01/05] ---> 0.3656022548675537\n",
      "=======================================\n",
      "correlation 0.36560225\n",
      "poisson_loss 997769.6\n"
     ]
    },
    {
     "name": "stderr",
     "output_type": "stream",
     "text": [
      "Epoch 66: 100%|██████████| 280/280 [00:09<00:00, 29.40it/s]\n"
     ]
    },
    {
     "name": "stdout",
     "output_type": "stream",
     "text": [
      "[066|01/05] -/-> 0.3641390800476074\n",
      "=======================================\n",
      "correlation 0.36413908\n",
      "poisson_loss 999521.9\n"
     ]
    },
    {
     "name": "stderr",
     "output_type": "stream",
     "text": [
      "Epoch 67: 100%|██████████| 280/280 [00:09<00:00, 29.14it/s]\n"
     ]
    },
    {
     "name": "stdout",
     "output_type": "stream",
     "text": [
      "[067|02/05] -/-> 0.36495107412338257\n",
      "=======================================\n",
      "correlation 0.36495107\n",
      "poisson_loss 998945.1\n"
     ]
    },
    {
     "name": "stderr",
     "output_type": "stream",
     "text": [
      "Epoch 68: 100%|██████████| 280/280 [00:09<00:00, 28.73it/s]\n"
     ]
    },
    {
     "name": "stdout",
     "output_type": "stream",
     "text": [
      "[068|03/05] -/-> 0.3634563982486725\n",
      "=======================================\n",
      "correlation 0.3634564\n",
      "poisson_loss 1002022.0\n"
     ]
    },
    {
     "name": "stderr",
     "output_type": "stream",
     "text": [
      "Epoch 69: 100%|██████████| 280/280 [00:09<00:00, 28.64it/s]\n"
     ]
    },
    {
     "name": "stdout",
     "output_type": "stream",
     "text": [
      "[069|04/05] -/-> 0.36492130160331726\n",
      "=======================================\n",
      "correlation 0.3649213\n",
      "poisson_loss 999144.25\n"
     ]
    },
    {
     "name": "stderr",
     "output_type": "stream",
     "text": [
      "Epoch 70: 100%|██████████| 280/280 [00:09<00:00, 28.60it/s]\n"
     ]
    },
    {
     "name": "stdout",
     "output_type": "stream",
     "text": [
      "[070|05/05] -/-> 0.36443817615509033\n",
      "Restoring best model after lr decay! 0.364438 ---> 0.365602\n",
      "Restoring best model! 0.365602 ---> 0.365602\n"
     ]
    }
   ],
   "source": [
    "score, output, model_state = trainer(model=model, dataloaders=dataloaders, seed=1)"
   ]
  },
  {
   "cell_type": "markdown",
   "metadata": {},
   "source": [
    "Best old:                                  0.376 - 0.379  \n",
    "Best new (no shared position):             0.377  \n",
    "Best new (with shared position):           0.373510  \n",
    "Best new (randomized feature sharing):     0.254705  "
   ]
  },
  {
   "cell_type": "code",
   "execution_count": 51,
   "metadata": {},
   "outputs": [
    {
     "data": {
      "text/plain": [
       "<matplotlib.collections.PathCollection at 0x7fd89d37d1f0>"
      ]
     },
     "execution_count": 51,
     "metadata": {},
     "output_type": "execute_result"
    },
    {
     "data": {
      "image/png": "[encoded data removed]",
      "text/plain": [
       "<Figure size 432x288 with 1 Axes>"
      ]
     },
     "metadata": {
      "needs_background": "light"
     },
     "output_type": "display_data"
    }
   ],
   "source": [
    "from sklearn.preprocessing import normalize\n",
    "\n",
    "for readout in model.readout.values():\n",
    "    pass\n",
    "features = readout.features.data.cpu().numpy().squeeze()\n",
    "norm = np.linalg.norm(features, axis=0)\n",
    "normal_features = features/norm\n",
    "feature_array = np.sum(np.abs(normal_features), axis=1)\n",
    "\n",
    "plt.scatter(range(len(feature_array)), feature_array)"
   ]
  },
  {
   "cell_type": "code",
   "execution_count": 43,
   "metadata": {},
   "outputs": [
    {
     "data": {
      "text/plain": [
       "array([-0.11563224, -0.12169852,  0.00162839, -0.1065565 , -0.09030306,\n",
       "       -0.26411068, -0.03621688, -0.09414343, -0.16266005,  0.00681304,\n",
       "       -0.27769265,  0.13791348, -0.26308358, -0.02553603,  0.0522678 ,\n",
       "       -0.10533423, -0.05172475, -0.04741452, -0.05409338,  0.01615188,\n",
       "        0.09535952, -0.14356638, -0.01316411, -0.23002908, -0.07901259,\n",
       "        0.06797612, -0.07570498,  0.01948488, -0.00845967, -0.08727653,\n",
       "        0.20558682,  0.00917294, -0.2335167 , -0.04591681, -0.08830366,\n",
       "       -0.05552875,  0.00535848, -0.02143106, -0.2733976 , -0.13957964,\n",
       "       -0.07051293, -0.01613361,  0.05441431, -0.14538914,  0.15702567,\n",
       "        0.15543485, -0.03477771, -0.332496  , -0.14007756,  0.04658466,\n",
       "        0.01440863,  0.06820111,  0.01084944, -0.00145826, -0.12061912,\n",
       "        0.13777626,  0.09337846, -0.19960046,  0.07085589, -0.0680723 ,\n",
       "        0.05683012,  0.03414334, -0.1698131 , -0.065088  ], dtype=float32)"
      ]
     },
     "execution_count": 43,
     "metadata": {},
     "output_type": "execute_result"
    }
   ],
   "source": [
    "normal_features[:,0]"
   ]
  },
  {
   "cell_type": "code",
   "execution_count": 41,
   "metadata": {},
   "outputs": [
    {
     "data": {
      "text/plain": [
       "array([-135.35556 ,  -50.963593, -125.74919 ,  -84.72666 , -112.35507 ,\n",
       "       -134.65776 ,  -55.806526,  -43.241165,  -82.83416 ,  -33.098206,\n",
       "        -73.38316 , -111.082596,  -78.482605,  -33.48808 ,  -73.29152 ,\n",
       "        -98.6774  ,  -82.385475,  -53.60815 ,  -98.230774,  -97.133865,\n",
       "        -62.973694,  -60.324974, -112.10832 , -121.57855 ,  -77.0879  ,\n",
       "       -122.5238  ,  -47.3617  ,  -55.475555,  -60.051964, -103.36594 ,\n",
       "        -85.186844,  -46.68411 , -141.59415 ,  -73.78817 ,  -31.45984 ,\n",
       "        -62.47406 ,  -57.427086,  -42.575302,  -89.43856 ,  -54.633926,\n",
       "        -62.706844,  -87.99484 ,  -67.76538 ,  -67.726814,  -39.62183 ,\n",
       "        -63.28067 ,  -89.67135 ,  -90.27229 ,  -71.67987 , -110.82568 ,\n",
       "        -83.759964,  -83.16847 ,  -51.610588, -144.86322 ,  -35.956497,\n",
       "        -57.14802 ,  -74.695076,  -83.96378 ,  -85.036476,  -81.61493 ,\n",
       "       -167.32788 , -110.395836,  -95.39306 ,  -70.00882 ], dtype=float32)"
      ]
     },
     "execution_count": 41,
     "metadata": {},
     "output_type": "execute_result"
    }
   ],
   "source": [
    "feature_array"
   ]
  },
  {
   "cell_type": "code",
   "execution_count": 52,
   "metadata": {},
   "outputs": [
    {
     "data": {
      "image/png": "[encoded data removed]",
      "text/plain": [
       "<Figure size 432x288 with 1 Axes>"
      ]
     },
     "metadata": {
      "needs_background": "light"
     },
     "output_type": "display_data"
    },
    {
     "data": {
      "image/png": "[encoded data removed]",
      "text/plain": [
       "<Figure size 432x288 with 1 Axes>"
      ]
     },
     "metadata": {
      "needs_background": "light"
     },
     "output_type": "display_data"
    },
    {
     "data": {
      "image/png": "[encoded data removed]",
      "text/plain": [
       "<Figure size 432x288 with 1 Axes>"
      ]
     },
     "metadata": {
      "needs_background": "light"
     },
     "output_type": "display_data"
    },
    {
     "data": {
      "image/png": "[encoded data removed]",
      "text/plain": [
       "<Figure size 432x288 with 1 Axes>"
      ]
     },
     "metadata": {
      "needs_background": "light"
     },
     "output_type": "display_data"
    },
    {
     "data": {
      "image/png": "[encoded data removed]",
      "text/plain": [
       "<Figure size 432x288 with 1 Axes>"
      ]
     },
     "metadata": {
      "needs_background": "light"
     },
     "output_type": "display_data"
    },
    {
     "data": {
      "image/png": "[encoded data removed]",
      "text/plain": [
       "<Figure size 432x288 with 1 Axes>"
      ]
     },
     "metadata": {
      "needs_background": "light"
     },
     "output_type": "display_data"
    },
    {
     "data": {
      "image/png": "[encoded data removed]",
      "text/plain": [
       "<Figure size 432x288 with 1 Axes>"
      ]
     },
     "metadata": {
      "needs_background": "light"
     },
     "output_type": "display_data"
    },
    {
     "data": {
      "image/png": "[encoded data removed]",
      "text/plain": [
       "<Figure size 432x288 with 1 Axes>"
      ]
     },
     "metadata": {
      "needs_background": "light"
     },
     "output_type": "display_data"
    },
    {
     "data": {
      "image/png": "[encoded data removed]",
      "text/plain": [
       "<Figure size 432x288 with 1 Axes>"
      ]
     },
     "metadata": {
      "needs_background": "light"
     },
     "output_type": "display_data"
    },
    {
     "data": {
      "image/png": "[encoded data removed]",
      "text/plain": [
       "<Figure size 432x288 with 1 Axes>"
      ]
     },
     "metadata": {
      "needs_background": "light"
     },
     "output_type": "display_data"
    }
   ],
   "source": [
    "for i in range(10):\n",
    "    plt.plot(features[:,i])\n",
    "    plt.show()"
   ]
  },
  {
   "cell_type": "code",
   "execution_count": 50,
   "metadata": {},
   "outputs": [
    {
     "data": {
      "text/plain": [
       "(array([2.000e+00, 1.000e+00, 0.000e+00, 2.000e+00, 4.000e+00, 6.000e+00,\n",
       "        9.000e+00, 2.200e+01, 3.100e+01, 5.900e+01, 8.300e+01, 1.310e+02,\n",
       "        2.220e+02, 3.500e+02, 4.710e+02, 7.290e+02, 9.840e+02, 1.391e+03,\n",
       "        1.787e+03, 2.379e+03, 2.872e+03, 3.470e+03, 4.050e+03, 4.559e+03,\n",
       "        4.787e+03, 4.898e+03, 5.099e+03, 6.246e+03, 4.429e+03, 3.353e+03,\n",
       "        2.707e+03, 2.008e+03, 1.560e+03, 1.144e+03, 8.690e+02, 5.920e+02,\n",
       "        4.430e+02, 2.830e+02, 1.890e+02, 1.300e+02, 8.200e+01, 6.200e+01,\n",
       "        4.900e+01, 2.200e+01, 1.100e+01, 5.000e+00, 3.000e+00, 4.000e+00,\n",
       "        2.000e+00, 1.000e+00]),\n",
       " array([-1.033639  , -0.9961923 , -0.95874566, -0.921299  , -0.88385236,\n",
       "        -0.8464057 , -0.808959  , -0.7715124 , -0.7340657 , -0.69661903,\n",
       "        -0.6591724 , -0.62172574, -0.5842791 , -0.54683244, -0.50938576,\n",
       "        -0.47193912, -0.43449247, -0.39704582, -0.35959917, -0.3221525 ,\n",
       "        -0.28470585, -0.2472592 , -0.20981254, -0.17236589, -0.13491923,\n",
       "        -0.09747258, -0.06002592, -0.02257927,  0.01486739,  0.05231404,\n",
       "         0.0897607 ,  0.12720735,  0.164654  ,  0.20210066,  0.23954731,\n",
       "         0.27699396,  0.31444064,  0.3518873 ,  0.38933393,  0.42678058,\n",
       "         0.46422726,  0.5016739 ,  0.53912055,  0.57656723,  0.61401385,\n",
       "         0.6514605 ,  0.6889072 ,  0.7263538 ,  0.7638005 ,  0.8012471 ,\n",
       "         0.8386938 ], dtype=float32),\n",
       " <a list of 50 Patch objects>)"
      ]
     },
     "execution_count": 50,
     "metadata": {},
     "output_type": "execute_result"
    },
    {
     "data": {
      "image/png": "[encoded data removed]",
      "text/plain": [
       "<Figure size 432x288 with 1 Axes>"
      ]
     },
     "metadata": {
      "needs_background": "light"
     },
     "output_type": "display_data"
    }
   ],
   "source": [
    "plt.hist(features.flatten(), bins=50)"
   ]
  },
  {
   "cell_type": "code",
   "execution_count": null,
   "metadata": {},
   "outputs": [],
   "source": []
  },
  {
   "cell_type": "code",
   "execution_count": null,
   "metadata": {},
   "outputs": [],
   "source": []
  },
  {
   "cell_type": "code",
   "execution_count": null,
   "metadata": {},
   "outputs": [],
   "source": [
    "grids = get_grids(model)\n",
    "    \n",
    "from nnsysident.utility.measures import get_correlations\n",
    "\n",
    "cors = get_correlations(model, dataloaders['test'], per_neuron=False, as_dict=True)\n",
    "for key, value in cors.items():\n",
    "    cors[key] = np.mean(value)"
   ]
  },
  {
   "cell_type": "code",
   "execution_count": null,
   "metadata": {},
   "outputs": [],
   "source": [
    "title = 'feat|scale: random init + learned - position: random 0.33 ortho init|0 + learned + shared'\n",
    "\n",
    "dictionary = dict(cors=cors,\n",
    "                  grids = grids,\n",
    "                  real_grids = real_grids,\n",
    "                  start_grids = start_grids,)\n",
    "#torch.save(dictionary, title)"
   ]
  },
  {
   "cell_type": "code",
   "execution_count": null,
   "metadata": {},
   "outputs": [],
   "source": [
    "import matplotlib.pyplot as plt\n",
    "import seaborn as sns\n",
    "\n",
    "fig, axes = plt.subplots(2, 2, dpi=200, figsize=(6, 4.3))\n",
    "\n",
    "for ind, (ax, (key, grid), (real_key, real_grid), (start_key, start_grid)) in enumerate(zip(axes.flat, grids.items(), real_grids.items(), start_grids.items())):\n",
    "    assert key==real_key==start_key, 'keys do not match'\n",
    "    ax.scatter(*grid.T, color='navy', s=.1, label='Learned position')\n",
    "    ax.scatter(*real_grid.T, color='red', s=.1, label='\"True\" position')\n",
    "    ax.scatter(*start_grid.T, color='black', s=.1, label='Init position', alpha=0.2)\n",
    "\n",
    "    ax.set(xlim=(-1.1, 1.1), ylim=(-1.1, 1.1), label='Learned correlation')\n",
    "    ax.text(-1,.8, round(cors[key], 3), fontsize=8.5, color='navy')\n",
    "    sns.despine(top=True, ax=ax)\n",
    "    \n",
    "    ax.set(xticks=[-1, -.5, 0, .5, 1])\n",
    "    ax.set_axisbelow(True)\n",
    "    ax.grid(ls='--')\n",
    "    if ind != 3:\n",
    "        ax.set(xticklabels=[], yticklabels=[])\n",
    "        \n",
    "    ax.set_title(key, fontsize=10)\n",
    "fig.suptitle(title.split('-')[0] + '\\n' + title.split('-')[-1], y=1.05, fontsize=10.)\n",
    "\n",
    "plt.tight_layout()\n",
    "#plt.savefig(title + '.png', dpi=200, bbox_inches='tight')"
   ]
  }
 ],
 "metadata": {
  "kernelspec": {
   "display_name": "Python 3",
   "language": "python",
   "name": "python3"
  },
  "language_info": {
   "codemirror_mode": {
    "name": "ipython",
    "version": 3
   },
   "file_extension": ".py",
   "mimetype": "text/x-python",
   "name": "python",
   "nbconvert_exporter": "python",
   "pygments_lexer": "ipython3",
   "version": "3.8.0"
  }
 },
 "nbformat": 4,
 "nbformat_minor": 4
}
