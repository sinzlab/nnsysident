{
 "cells": [
  {
   "cell_type": "markdown",
   "metadata": {
    "jupyter": {
     "outputs_hidden": true
    }
   },
   "source": [
    "# Mouse System Identification Models"
   ]
  },
  {
   "cell_type": "code",
   "execution_count": null,
   "metadata": {
    "tags": []
   },
   "outputs": [],
   "source": [
    "import os\n",
    "import datajoint as dj\n",
    "dj.config['database.host'] = os.environ['DJ_HOST']\n",
    "dj.config['database.user'] = os.environ['DJ_USERNAME']\n",
    "dj.config['database.password'] = os.environ['DJ_PASSWORD']\n",
    "dj.config['enable_python_native_blobs'] = True\n",
    "dj.config['display.limit'] = 200\n",
    "        \n",
    "name = 'nsc'\n",
    "os.environ[\"DJ_SCHEMA_NAME\"] = f\"metrics_{name}\"\n",
    "dj.config[\"nnfabrik.schema_name\"] = os.environ[\"DJ_SCHEMA_NAME\"]"
   ]
  },
  {
   "cell_type": "code",
   "execution_count": null,
   "metadata": {
    "tags": []
   },
   "outputs": [],
   "source": [
    "import torch\n",
    "import numpy as np\n",
    "\n",
    "from nnsysident.training.trainers import standard_trainer\n",
    "from nnsysident.models.models import Stacked2dFullGaussian2d_Poisson, Stacked2dFullGaussian2d_ZIG, Stacked2dPointPooled_Poisson, Stacked2dPointPooled_Gamma\n",
    "from nnsysident.datasets.mouse_loaders import static_loaders\n",
    "from nnsysident.utility.data_helpers import extract_data_key\n",
    "from nnsysident.utility.measures import get_model_performance\n",
    "\n",
    "random_seed = 27121992\n",
    "device = 'cuda'"
   ]
  },
  {
   "cell_type": "markdown",
   "metadata": {},
   "source": [
    "___"
   ]
  },
  {
   "cell_type": "markdown",
   "metadata": {
    "tags": []
   },
   "source": [
    "## Data"
   ]
  },
  {
   "cell_type": "code",
   "execution_count": null,
   "metadata": {
    "tags": []
   },
   "outputs": [],
   "source": [
    "paths = ['./data/static20457-5-9-preproc0']\n",
    "\n",
    "data_key = extract_data_key(paths[0])\n",
    "\n",
    "dataset_config = {'paths': paths,\n",
    "                  'batch_size': 64,\n",
    "                  'seed': random_seed,\n",
    "                  'loader_outputs': [\"images\", \"responses\"],\n",
    "                  'normalize': True,\n",
    "                  'exclude': [\"images\"],\n",
    "                  }\n",
    "\n",
    "dataloaders = static_loaders(**dataset_config)"
   ]
  },
  {
   "cell_type": "markdown",
   "metadata": {},
   "source": [
    "## Model"
   ]
  },
  {
   "cell_type": "code",
   "execution_count": null,
   "metadata": {
    "tags": []
   },
   "outputs": [],
   "source": [
    "model_config_base = {\"hidden_kern\": 13,\n",
    "                     \"input_kern\": 15,\n",
    "                     \"init_sigma\": 0.4,\n",
    "                     'init_mu_range': 0.55,\n",
    "                     'gamma_input': 1.0,\n",
    "                     'grid_mean_predictor': {'type': 'cortex',\n",
    "                                              'input_dimensions': 2,\n",
    "                                              'hidden_layers': 0,\n",
    "                                              'hidden_features': 0,\n",
    "                                              'final_tanh': False},\n",
    "                     \"feature_reg_weight\": 0.78,\n",
    "                    }\n",
    "\n",
    "# This is for the Lurz model (Poisson)\n",
    "model_config_lurz_model = model_config_base.copy()\n",
    "model_config_lurz_model['batch_norm_scale'] = False\n",
    "model_config_lurz_model['feature_reg_weight'] = 2.439\n",
    "model_config_lurz_model['independent_bn_bias'] = True"
   ]
  },
  {
   "cell_type": "markdown",
   "metadata": {},
   "source": [
    "#### ZIG model"
   ]
  },
  {
   "cell_type": "code",
   "execution_count": null,
   "metadata": {
    "tags": []
   },
   "outputs": [],
   "source": [
    "loc = np.exp(-10)\n",
    "\n",
    "zig_model_config = model_config_base.copy()\n",
    "zig_model_config['zero_thresholds'] = {data_key: loc}\n",
    "\n",
    "zig_model = Stacked2dFullGaussian2d_ZIG().build_model(dataloaders, random_seed, **zig_model_config)"
   ]
  },
  {
   "cell_type": "markdown",
   "metadata": {},
   "source": [
    "If you want to load a state_dict, run this cell. If the state_dict is transferred from a model which was trained on another dataset, set `strict=False`.\n",
    "In this case, you will need to fine tune the readout of the model using the new dataset. For this, set `detach_core=True` in the trainer_config"
   ]
  },
  {
   "cell_type": "code",
   "execution_count": null,
   "metadata": {
    "tags": []
   },
   "outputs": [],
   "source": [
    "# zig_model.load_state_dict(torch.load(\"ZIG_statedict\" + data_key + \".pt\"), strict=True)"
   ]
  },
  {
   "cell_type": "markdown",
   "metadata": {},
   "source": [
    "#### Poisson model"
   ]
  },
  {
   "cell_type": "code",
   "execution_count": null,
   "metadata": {
    "tags": []
   },
   "outputs": [],
   "source": [
    "poisson_model_config = model_config_base.copy()\n",
    "\n",
    "poisson_model = Stacked2dFullGaussian2d_Poisson().build_model(dataloaders, random_seed, **poisson_model_config)\n",
    "lurz_poisson_model = Stacked2dFullGaussian2d_Poisson().build_model(dataloaders, random_seed, **model_config_lurz_model)"
   ]
  },
  {
   "cell_type": "code",
   "execution_count": null,
   "metadata": {
    "tags": []
   },
   "outputs": [],
   "source": [
    "# poisson_model.load_state_dict(torch.load(\"Poisson_statedict\" + data_key + \".pt\"), strict=True)"
   ]
  },
  {
   "cell_type": "markdown",
   "metadata": {},
   "source": [
    "#### Gamma model"
   ]
  },
  {
   "cell_type": "code",
   "execution_count": null,
   "metadata": {
    "tags": []
   },
   "outputs": [],
   "source": [
    "gamma_model_config = model_config_base.copy()\n",
    "\n",
    "gamma_model = Stacked2dPointPooled_Gamma().build_model(dataloaders, random_seed, **gamma_model_config)"
   ]
  },
  {
   "cell_type": "markdown",
   "metadata": {},
   "source": [
    "If you want to load a state_dict, run this cell. If the state_dict is transferred from a model which was trained on another dataset, set `strict=False`.\n",
    "In this case, you will need to fine tune the readout of the model using the new dataset. For this, set `detach_core=True` in the trainer_config"
   ]
  },
  {
   "cell_type": "markdown",
   "metadata": {},
   "source": [
    "#### Lurz model"
   ]
  },
  {
   "cell_type": "code",
   "execution_count": null,
   "metadata": {
    "tags": []
   },
   "outputs": [],
   "source": [
    "not_matching_keys = lurz_poisson_model.load_state_dict(torch.load(\"lurz_core_poisson.tar\"), strict=False)\n",
    "\n",
    "not_matching_keys = list(key for key in not_matching_keys.missing_keys if key[:7] != \"readout\") + list(key for key in not_matching_keys.unexpected_keys if key[:7] != \"readout\")\n",
    "print(\"{} not matching keys\".format(len(not_matching_keys)))"
   ]
  },
  {
   "cell_type": "markdown",
   "metadata": {},
   "source": [
    "## Training"
   ]
  },
  {
   "cell_type": "markdown",
   "metadata": {},
   "source": [
    "Set `track_training=True` if you want to see more details how the training is going. If you only want to fine-tune the readout because the core was loaded, set `detach_core=True`."
   ]
  },
  {
   "cell_type": "code",
   "execution_count": null,
   "metadata": {
    "tags": []
   },
   "outputs": [],
   "source": [
    "trainer_config_base = {\"track_training\": False,\n",
    "                       \"device\": device,\n",
    "                       \"detach_core\": False}\n",
    "lurz_model_trainer_config = trainer_config_base.copy()\n",
    "lurz_model_trainer_config[\"detach_core\"] = True"
   ]
  },
  {
   "cell_type": "markdown",
   "metadata": {},
   "source": [
    "#### ZIG model"
   ]
  },
  {
   "cell_type": "code",
   "execution_count": null,
   "metadata": {
    "tags": []
   },
   "outputs": [],
   "source": [
    "zig_score, zig_output, zig_state_dict = standard_trainer(zig_model,\n",
    "                                                         dataloaders,\n",
    "                                                         random_seed,\n",
    "                                                         loss_function=\"ZIGLoss\",\n",
    "                                                         stop_function=\"get_loss\",\n",
    "                                                         maximize=False,\n",
    "                                                         **trainer_config_base)\n",
    "# torch.save(zig_state_dict, \"mouseV1_gaussian_ZIG_statedict\" + data_key + \".tar\")"
   ]
  },
  {
   "cell_type": "code",
   "execution_count": null,
   "metadata": {},
   "outputs": [],
   "source": [
    "zig_performance = get_model_performance(zig_model, dataloaders, \"ZIGLoss\", device=device)"
   ]
  },
  {
   "cell_type": "markdown",
   "metadata": {},
   "source": [
    "#### Poisson model"
   ]
  },
  {
   "cell_type": "code",
   "execution_count": null,
   "metadata": {
    "tags": []
   },
   "outputs": [],
   "source": [
    "poisson_score, poisson_output, poisson_state_dict = standard_trainer(poisson_model,\n",
    "                                                                     dataloaders,\n",
    "                                                                     random_seed,\n",
    "                                                                     loss_function=\"PoissonLoss\",\n",
    "                                                                     **trainer_config_base)\n",
    "# torch.save(poisson_state_dict, \"mouseV1_gaussian_Poisson_statedict\" + data_key + \".tar\")"
   ]
  },
  {
   "cell_type": "code",
   "execution_count": null,
   "metadata": {},
   "outputs": [],
   "source": [
    "poisson_performance = get_model_performance(poisson_model, dataloaders, \"PoissonLoss\", device=device)"
   ]
  },
  {
   "cell_type": "markdown",
   "metadata": {},
   "source": [
    "#### Gamma model"
   ]
  },
  {
   "cell_type": "code",
   "execution_count": null,
   "metadata": {
    "tags": []
   },
   "outputs": [],
   "source": [
    "gamma_score, gamma_output, gamma_state_dict = standard_trainer(gamma_model,\n",
    "                                                                     dataloaders,\n",
    "                                                                     random_seed,\n",
    "                                                                     loss_function=\"GammaLoss\",\n",
    "                                                                     **trainer_config_base)\n",
    "# torch.save(gamma_state_dict, \"mouseV1_pointpooled_Gamma_statedict\" + data_key + \".tar\")"
   ]
  },
  {
   "cell_type": "code",
   "execution_count": null,
   "metadata": {},
   "outputs": [],
   "source": [
    "gamma_performance = get_model_performance(gamma_model, dataloaders, \"GammaLoss\", device=device)"
   ]
  },
  {
   "cell_type": "markdown",
   "metadata": {},
   "source": [
    "#### Lurz model"
   ]
  },
  {
   "cell_type": "code",
   "execution_count": null,
   "metadata": {
    "tags": []
   },
   "outputs": [],
   "source": [
    "lurz_poisson_score, lurz_poisson_output, lurz_poisson_state_dict = standard_trainer(lurz_poisson_model,\n",
    "                                                                     dataloaders,\n",
    "                                                                     random_seed,\n",
    "                                                                     loss_function=\"PoissonLoss\",\n",
    "                                                                     **lurz_model_trainer_config)\n",
    "# torch.save(lurz_poisson_state_dict, \"mouseV1_gaussian_lurz_Poisson_statedict\" + data_key + \".tar\")"
   ]
  },
  {
   "cell_type": "code",
   "execution_count": null,
   "metadata": {
    "tags": []
   },
   "outputs": [],
   "source": [
    "lurz_performance = get_model_performance(lurz_poisson_model, dataloaders, \"PoissonLoss\", device=device)"
   ]
  },
  {
   "cell_type": "markdown",
   "metadata": {},
   "source": [
    "___"
   ]
  }
 ],
 "metadata": {
  "kernelspec": {
   "display_name": "Python 3 (ipykernel)",
   "language": "python",
   "name": "python3"
  },
  "language_info": {
   "codemirror_mode": {
    "name": "ipython",
    "version": 3
   },
   "file_extension": ".py",
   "mimetype": "text/x-python",
   "name": "python",
   "nbconvert_exporter": "python",
   "pygments_lexer": "ipython3",
   "version": "3.9.16"
  }
 },
 "nbformat": 4,
 "nbformat_minor": 4
}
