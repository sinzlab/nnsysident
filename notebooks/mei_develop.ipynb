{
 "cells": [
  {
   "cell_type": "code",
   "execution_count": 1,
   "metadata": {
    "tags": []
   },
   "outputs": [],
   "source": [
    "import os\n",
    "import datajoint as dj\n",
    "dj.config['database.host'] = os.environ['DJ_HOST']\n",
    "dj.config['database.user'] = os.environ['DJ_USERNAME']\n",
    "dj.config['database.password'] = os.environ['DJ_PASSWORD']\n",
    "dj.config['enable_python_native_blobs'] = True\n",
    "dj.config['display.limit'] = 15\n",
    "\n",
    "name = 'vei'\n",
    "os.environ[\"DJ_SCHEMA_NAME\"] = f\"metrics_{name}\"\n",
    "dj.config[\"nnfabrik.schema_name\"] = os.environ[\"DJ_SCHEMA_NAME\"]"
   ]
  },
  {
   "cell_type": "code",
   "execution_count": 2,
   "metadata": {
    "tags": []
   },
   "outputs": [
    {
     "name": "stdout",
     "output_type": "stream",
     "text": [
      "Connecting konstantin@134.76.19.44:3306\n"
     ]
    }
   ],
   "source": [
    "import os\n",
    "import wandb\n",
    "from tqdm import tqdm\n",
    "\n",
    "import numpy as np\n",
    "import pandas as pd\n",
    "from matplotlib import pyplot as plt\n",
    "import matplotlib as mpl\n",
    "mpl.rcParams[\"figure.facecolor\"] = 'w'\n",
    "mpl.rcParams[\"axes.facecolor\"] = 'w'\n",
    "mpl.rcParams[\"savefig.facecolor\"] = 'w'\n",
    "mpl.rcParams[\"figure.dpi\"] = 100\n",
    "mpl.rcParams[\"figure.figsize\"] = (3, 3)\n",
    "import seaborn as sns\n",
    "import torch\n",
    "from torch import load\n",
    "\n",
    "from nnfabrik.main import *\n",
    "from mei.main import MEISeed, MEIMethod\n",
    "from nnfabrik.main import Dataset, my_nnfabrik\n",
    "from nnsysident.tables.experiments import TrainedModel, schema\n",
    "from nnsysident.tables.mei import MEISelector, TrainedEnsembleModel, MEI, MEIMonkey, MEIExperimentsMonkey, MEIExperimentsMouse\n",
    "from nnvision.tables.main import Recording\n",
    "\n",
    "device = \"cuda\"\n",
    "random_seed = 42"
   ]
  },
  {
   "cell_type": "markdown",
   "metadata": {},
   "source": [
    "___"
   ]
  },
  {
   "cell_type": "code",
   "execution_count": 124,
   "metadata": {
    "tags": []
   },
   "outputs": [
    {
     "name": "stdout",
     "output_type": "stream",
     "text": [
      "MEI                  Completed 925 of 1000 (92.5%)   2023-08-23 22:40:02\n"
     ]
    },
    {
     "data": {
      "text/plain": [
       "(75, 1000)"
      ]
     },
     "execution_count": 124,
     "metadata": {},
     "output_type": "execute_result"
    }
   ],
   "source": [
    "MEI.progress(MEIExperimentsMouse.Restrictions & 'experiment_name=\"{}\"'.format(\"Post-optimization of CEIs (0.8) created with different L1 weights\"),)"
   ]
  },
  {
   "cell_type": "code",
   "execution_count": 20,
   "metadata": {
    "tags": []
   },
   "outputs": [],
   "source": [
    "(schema.jobs & \"status='error'\").delete()"
   ]
  },
  {
   "cell_type": "code",
   "execution_count": 25,
   "metadata": {
    "tags": []
   },
   "outputs": [
    {
     "data": {
      "text/html": [
       "\n",
       "        \n",
       "        <style type=\"text/css\">\n",
       "            .Relation{\n",
       "                border-collapse:collapse;\n",
       "            }\n",
       "            .Relation th{\n",
       "                background: #A0A0A0; color: #ffffff; padding:4px; border:#f0e0e0 1px solid;\n",
       "                font-weight: normal; font-family: monospace; font-size: 100%;\n",
       "            }\n",
       "            .Relation td{\n",
       "                padding:4px; border:#f0e0e0 1px solid; font-size:100%;\n",
       "            }\n",
       "            .Relation tr:nth-child(odd){\n",
       "                background: #ffffff;\n",
       "            }\n",
       "            .Relation tr:nth-child(even){\n",
       "                background: #f3f1ff;\n",
       "            }\n",
       "            /* Tooltip container */\n",
       "            .djtooltip {\n",
       "            }\n",
       "            /* Tooltip text */\n",
       "            .djtooltip .djtooltiptext {\n",
       "                visibility: hidden;\n",
       "                width: 120px;\n",
       "                background-color: black;\n",
       "                color: #fff;\n",
       "                text-align: center;\n",
       "                padding: 5px 0;\n",
       "                border-radius: 6px;\n",
       "                /* Position the tooltip text - see examples below! */\n",
       "                position: absolute;\n",
       "                z-index: 1;\n",
       "            }\n",
       "            #primary {\n",
       "                font-weight: bold;\n",
       "                color: black;\n",
       "            }\n",
       "\n",
       "            #nonprimary {\n",
       "                font-weight: normal;\n",
       "                color: white;\n",
       "            }\n",
       "\n",
       "            /* Show the tooltip text when you mouse over the tooltip container */\n",
       "            .djtooltip:hover .djtooltiptext {\n",
       "                visibility: visible;\n",
       "            }\n",
       "        </style>\n",
       "        \n",
       "        <b>job reservation table for `metrics_vei`</b>\n",
       "            <div style=\"max-height:1000px;max-width:1500px;overflow:auto;\">\n",
       "            <table border=\"1\" class=\"Relation\">\n",
       "                <thead> <tr style=\"text-align: right;\"> <th> <div class=\"djtooltip\">\n",
       "                                <p id=\"primary\">table_name</p>\n",
       "                                <span class=\"djtooltiptext\">className of the table</span>\n",
       "                            </div></th><th><div class=\"djtooltip\">\n",
       "                                <p id=\"primary\">key_hash</p>\n",
       "                                <span class=\"djtooltiptext\">key hash</span>\n",
       "                            </div></th><th><div class=\"djtooltip\">\n",
       "                                <p id=\"nonprimary\">status</p>\n",
       "                                <span class=\"djtooltiptext\">if tuple is missing, the job is available</span>\n",
       "                            </div></th><th><div class=\"djtooltip\">\n",
       "                                <p id=\"nonprimary\">key</p>\n",
       "                                <span class=\"djtooltiptext\">structure containing the key</span>\n",
       "                            </div></th><th><div class=\"djtooltip\">\n",
       "                                <p id=\"nonprimary\">error_message</p>\n",
       "                                <span class=\"djtooltiptext\">error message returned if failed</span>\n",
       "                            </div></th><th><div class=\"djtooltip\">\n",
       "                                <p id=\"nonprimary\">error_stack</p>\n",
       "                                <span class=\"djtooltiptext\">error stack if failed</span>\n",
       "                            </div></th><th><div class=\"djtooltip\">\n",
       "                                <p id=\"nonprimary\">user</p>\n",
       "                                <span class=\"djtooltiptext\">database user</span>\n",
       "                            </div></th><th><div class=\"djtooltip\">\n",
       "                                <p id=\"nonprimary\">host</p>\n",
       "                                <span class=\"djtooltiptext\">system hostname</span>\n",
       "                            </div></th><th><div class=\"djtooltip\">\n",
       "                                <p id=\"nonprimary\">pid</p>\n",
       "                                <span class=\"djtooltiptext\">system process id</span>\n",
       "                            </div></th><th><div class=\"djtooltip\">\n",
       "                                <p id=\"nonprimary\">connection_id</p>\n",
       "                                <span class=\"djtooltiptext\">connection_id()</span>\n",
       "                            </div></th><th><div class=\"djtooltip\">\n",
       "                                <p id=\"nonprimary\">timestamp</p>\n",
       "                                <span class=\"djtooltiptext\">automatic timestamp</span>\n",
       "                            </div> </th> </tr> </thead>\n",
       "                <tbody> <tr>  </tr> </tbody>\n",
       "            </table>\n",
       "            \n",
       "            <p>Total: 0</p></div>\n",
       "            "
      ],
      "text/plain": [
       "*table_name    *key_hash    status     key        error_message  error_stac user     host     pid     connection_id  timestamp    \n",
       "+------------+ +----------+ +--------+ +--------+ +------------+ +--------+ +------+ +------+ +-----+ +------------+ +-----------+\n",
       "\n",
       " (Total: 0)"
      ]
     },
     "execution_count": 25,
     "metadata": {},
     "output_type": "execute_result"
    }
   ],
   "source": [
    "schema.jobs"
   ]
  },
  {
   "cell_type": "markdown",
   "metadata": {},
   "source": [
    "___"
   ]
  },
  {
   "cell_type": "markdown",
   "metadata": {},
   "source": [
    "## Check MEI training"
   ]
  },
  {
   "cell_type": "code",
   "execution_count": 8,
   "metadata": {
    "tags": []
   },
   "outputs": [
    {
     "name": "stderr",
     "output_type": "stream",
     "text": [
      "100% 1/1 [00:00<00:00,  5.34it/s]\n"
     ]
    },
    {
     "data": {
      "image/png": "[encoded data removed]",
      "text/plain": [
       "<Figure size 800x160 with 2 Axes>"
      ]
     },
     "metadata": {},
     "output_type": "display_data"
    }
   ],
   "source": [
    "table = (MEI & dj.AndList([\"dataset_hash = 'd4869853a4fd946b12adf99b70f9f1cf'\", \n",
    "             \"ensemble_hash = '89233087b4af73dfea4dbca1fbc841d0'\", \n",
    "             \"method_hash = '54f863f93364931f53ecdfe7c2bc5a03'\", \n",
    "             f\"unit_id = {unit_id}\"]))\n",
    "\n",
    "for u_id in tqdm(np.unique(table.fetch(\"unit_id\"))):\n",
    "    output_path = (table & f\"unit_id = {u_id}\").fetch1(\"output\")\n",
    "    output = load(output_path)\n",
    "    mei = table.load_mei()[0]\n",
    "    os.remove(output_path)\n",
    "\n",
    "    fig, axes = plt.subplots(1, 2, figsize=(10, 2), dpi=80)\n",
    "    axes[0].plot(\n",
    "        output[\"mei.objectives.EvaluationObjective\"][\"times\"],\n",
    "        output[\"mei.objectives.EvaluationObjective\"][\"values\"],\n",
    "    )\n",
    "    axes[1].imshow(mei.squeeze(), cmap=\"gray\")\n",
    "    axes[1].axis(\"off\")\n",
    "\n",
    "    axes[0].set_xlabel(\"# iteration\")\n",
    "    axes[0].set_ylabel(\"evaluation\")\n",
    "    sns.despine(trim=True)"
   ]
  },
  {
   "cell_type": "markdown",
   "metadata": {},
   "source": [
    "# Inserting tables"
   ]
  },
  {
   "cell_type": "markdown",
   "metadata": {},
   "source": [
    "#### Create Ensemble Model"
   ]
  },
  {
   "cell_type": "code",
   "execution_count": null,
   "metadata": {
    "tags": []
   },
   "outputs": [],
   "source": [
    "key = dict(dataset_fn=\"nnvision.datasets.monkey_loaders.monkey_static_loader\",\n",
    "           dataset_hash=\"075e942fd72e20d77d672d7a942ebc61\",\n",
    "           # model_fn=\"nnsysident.models.models.stacked2d_zig\",\n",
    "           model_hash=\"acca54db77f06e9f37b72900ddc57263\",\n",
    "           trainer_hash=\"69601593d387758e9ff6a5bf26dd6739\")\n",
    "\n",
    "# TrainedEnsembleModel().create_ensemble(key, comment=\"Monkey V1 Gamma Model, PointPooled\")\n",
    "TrainedEnsembleModel()"
   ]
  },
  {
   "cell_type": "markdown",
   "metadata": {},
   "source": [
    "#### Populate Selector Table"
   ]
  },
  {
   "cell_type": "code",
   "execution_count": 188,
   "metadata": {
    "tags": []
   },
   "outputs": [
    {
     "data": {
      "text/html": [
       "\n",
       "        \n",
       "        <style type=\"text/css\">\n",
       "            .Relation{\n",
       "                border-collapse:collapse;\n",
       "            }\n",
       "            .Relation th{\n",
       "                background: #A0A0A0; color: #ffffff; padding:4px; border:#f0e0e0 1px solid;\n",
       "                font-weight: normal; font-family: monospace; font-size: 100%;\n",
       "            }\n",
       "            .Relation td{\n",
       "                padding:4px; border:#f0e0e0 1px solid; font-size:100%;\n",
       "            }\n",
       "            .Relation tr:nth-child(odd){\n",
       "                background: #ffffff;\n",
       "            }\n",
       "            .Relation tr:nth-child(even){\n",
       "                background: #f3f1ff;\n",
       "            }\n",
       "            /* Tooltip container */\n",
       "            .djtooltip {\n",
       "            }\n",
       "            /* Tooltip text */\n",
       "            .djtooltip .djtooltiptext {\n",
       "                visibility: hidden;\n",
       "                width: 120px;\n",
       "                background-color: black;\n",
       "                color: #fff;\n",
       "                text-align: center;\n",
       "                padding: 5px 0;\n",
       "                border-radius: 6px;\n",
       "                /* Position the tooltip text - see examples below! */\n",
       "                position: absolute;\n",
       "                z-index: 1;\n",
       "            }\n",
       "            #primary {\n",
       "                font-weight: bold;\n",
       "                color: black;\n",
       "            }\n",
       "\n",
       "            #nonprimary {\n",
       "                font-weight: normal;\n",
       "                color: white;\n",
       "            }\n",
       "\n",
       "            /* Show the tooltip text when you mouse over the tooltip container */\n",
       "            .djtooltip:hover .djtooltiptext {\n",
       "                visibility: visible;\n",
       "            }\n",
       "        </style>\n",
       "        \n",
       "        <b>contains ensemble ids</b>\n",
       "            <div style=\"max-height:1000px;max-width:1500px;overflow:auto;\">\n",
       "            <table border=\"1\" class=\"Relation\">\n",
       "                <thead> <tr style=\"text-align: right;\"> <th> <div class=\"djtooltip\">\n",
       "                                <p id=\"primary\">dataset_fn</p>\n",
       "                                <span class=\"djtooltiptext\">name of the dataset loader function</span>\n",
       "                            </div></th><th><div class=\"djtooltip\">\n",
       "                                <p id=\"primary\">dataset_hash</p>\n",
       "                                <span class=\"djtooltiptext\">hash of the configuration object</span>\n",
       "                            </div></th><th><div class=\"djtooltip\">\n",
       "                                <p id=\"primary\">ensemble_hash</p>\n",
       "                                <span class=\"djtooltiptext\">the hash of the ensemble</span>\n",
       "                            </div></th><th><div class=\"djtooltip\">\n",
       "                                <p id=\"nonprimary\">ensemble_comment</p>\n",
       "                                <span class=\"djtooltiptext\">a short comment describing the ensemble</span>\n",
       "                            </div> </th> </tr> </thead>\n",
       "                <tbody> <tr> <td>nnsysident.datasets.mouse_loaders.static_loaders</td>\n",
       "<td>d4869853a4fd946b12adf99b70f9f1cf</td>\n",
       "<td>89233087b4af73dfea4dbca1fbc841d0</td>\n",
       "<td>zig models, modulator, shifter, best 5 val loss out of 15 models, Jiakun dataset</td> </tr> </tbody>\n",
       "            </table>\n",
       "            \n",
       "            <p>Total: 1</p></div>\n",
       "            "
      ],
      "text/plain": [
       "*dataset_fn    *dataset_hash  *ensemble_hash ensemble_comme\n",
       "+------------+ +------------+ +------------+ +------------+\n",
       "nnsysident.dat d4869853a4fd94 89233087b4af73 zig models, mo\n",
       " (Total: 1)"
      ]
     },
     "execution_count": 188,
     "metadata": {},
     "output_type": "execute_result"
    }
   ],
   "source": [
    "TrainedEnsembleModel() & \"ensemble_hash = '89233087b4af73dfea4dbca1fbc841d0'\""
   ]
  },
  {
   "cell_type": "code",
   "execution_count": null,
   "metadata": {},
   "outputs": [],
   "source": [
    "restr = \"dataset_hash = 'd4869853a4fd946b12adf99b70f9f1cf'\"\n",
    "MEISelector.populate(restr)\n",
    "MEISelector() & restr"
   ]
  },
  {
   "cell_type": "markdown",
   "metadata": {},
   "source": [
    "#### Specify MEI Method Parameters"
   ]
  },
  {
   "cell_type": "code",
   "execution_count": 57,
   "metadata": {
    "tags": []
   },
   "outputs": [],
   "source": [
    "method_fn = \"mei.methods.gradient_ascent\"\n",
    "for l1 in np.arange(0.000001, 0.0001, 0.000001):\n",
    "    l1 = round(l1, 6)\n",
    "    method_config = {'initial': {'path': 'mei.initial.ImageLoader', 'kwargs': {\"mei_type\": \"CEI\", \"ref_level\": 0.8, \"l1\": l1, \"zero_grad_threshold\": .08}},\n",
    "                     'optimizer': {'path': 'torch.optim.SGD', 'kwargs': {'lr': 20.}},\n",
    "                     'precondition': {'path': 'mei.legacy.ops.GaussianBlur',\n",
    "                      'kwargs': {'sigma': 1}},\n",
    "                     'stopper': {'path': 'mei.stoppers.EarlyStopping',\n",
    "                      'kwargs': {'patience': 20, \"min_iter\": 200}},\n",
    "                     'objectives': [{'path': 'mei.objectives.EvaluationObjective',\n",
    "                       'kwargs': {'interval': 10}}],\n",
    "                     'device': 'cuda',\n",
    "                     'mei_class_name': 'CEI',\n",
    "                     'ref_level': 0.8,\n",
    "                     }\n",
    "    method_comment = f\"CEI, 0.8, l1_init: {l1}, NoNorm\"\n",
    "    MEIMethod().add_method(method_fn, method_config, comment=method_comment)\n"
   ]
  },
  {
   "cell_type": "code",
   "execution_count": 56,
   "metadata": {
    "tags": []
   },
   "outputs": [],
   "source": [
    "method_fn = \"mei.methods.gradient_ascent\"\n",
    "\n",
    "# MEI\n",
    "# method_config = {'initial': {'path': 'mei.initial.RandomNormal'},\n",
    "#                  'optimizer': {'path': 'torch.optim.SGD', 'kwargs': {'lr': 0.2}},\n",
    "#                  'precondition': {'path': 'mei.legacy.ops.GaussianBlur',\n",
    "#                   'kwargs': {'sigma': 1}},\n",
    "#                  'postprocessing': {'path': 'mei.legacy.ops.ChangeNorm',\n",
    "#                   'kwargs': {'norm': 12}},\n",
    "#                  'stopper': {'path': 'mei.stoppers.EarlyStopping',\n",
    "#                   'kwargs': {'patience': 20, \"min_iter\": 200}},\n",
    "#                  'objectives': [{'path': 'mei.objectives.EvaluationObjective',\n",
    "#                    'kwargs': {'interval': 10}}],\n",
    "#                  'device': 'cuda',\n",
    "#                  'mei_class_name': 'MEI'}\n",
    "# method_comment = \"MEI, norm=12\"\n",
    "\n",
    "# CEI\n",
    "# l1 = 0.0001\n",
    "# method_config = {'initial': {'path': 'mei.initial.OneValue', 'kwargs': {'fill_value': 0.01}},\n",
    "#                  'optimizer': {'path': 'torch.optim.SGD', 'kwargs': {'lr': 20.}},\n",
    "#                  'precondition': {'path': 'mei.legacy.ops.GaussianBlur',\n",
    "#                   'kwargs': {'sigma': 1}},\n",
    "#                  'stopper': {'path': 'mei.stoppers.EarlyStopping',\n",
    "#                   'kwargs': {'patience': 20, \"min_iter\": 200}},\n",
    "#                  'objectives': [{'path': 'mei.objectives.EvaluationObjective',\n",
    "#                    'kwargs': {'interval': 10}}],\n",
    "#                     \"regularization\": {\n",
    "#                         \"path\": 'mei.legacy.ops.L1Norm',\n",
    "#                         \"kwargs\": {\"weight\": l1},\n",
    "#                     },\n",
    "#                  'device': 'cuda',\n",
    "#                  'mei_class_name': 'CEI',\n",
    "#                  'ref_level': 0.8,\n",
    "#                  }\n",
    "# method_comment = f\"CEI, 0.8, OneValue, NoNorm, L1: {l1}\"\n",
    "\n",
    "# VEI from CEI\n",
    "# method_config = {'initial': {'path': 'mei.initial.ImageLoader', 'kwargs': {\"mei_type\": \"CEI\", \"ref_level\": 0.8}},\n",
    "#                  'optimizer': {'path': 'torch.optim.SGD', 'kwargs': {'lr': 0.05}},\n",
    "#                  'precondition': {'path': 'mei.legacy.ops.GaussianBlur',\n",
    "#                   'kwargs': {'sigma': 1}},\n",
    "#                  'postprocessing': {'path': 'mei.legacy.ops.ChangeNorm',\n",
    "#                   'kwargs': {'norm': 10}},\n",
    "#                  'stopper': {'path': 'mei.stoppers.EarlyStopping',\n",
    "#                   'kwargs': {'patience': 20, \"min_iter\": 200}},\n",
    "#                  'objectives': [{'path': 'mei.objectives.EvaluationObjective',\n",
    "#                    'kwargs': {'interval': 10}}],\n",
    "#                  'device': 'cuda',\n",
    "#                  'mei_class_name': 'VEI',\n",
    "#                  'ref_level': 0.8,\n",
    "#                  \"variance_optimization\": \"min\",\n",
    "#                  \"scale\": 100,\n",
    "#                  \"dx\": 0.02,\n",
    "#                  }\n",
    "# method_comment = \"VEI-, 0.8, 0.02\"\n",
    "\n",
    "# VEI from MEI\n",
    "# method_config = {'initial': {'path': 'mei.initial.ImageLoader', 'kwargs': {\"mei_type\": \"MEI\"}},\n",
    "#                  'optimizer': {'path': 'torch.optim.SGD', 'kwargs': {'lr': 0.05}},\n",
    "#                  'precondition': {'path': 'mei.legacy.ops.GaussianBlur',\n",
    "#                   'kwargs': {'sigma': 1}},\n",
    "#                  'postprocessing': {'path': 'mei.legacy.ops.ChangeNorm',\n",
    "#                   'kwargs': {'norm': 10}},\n",
    "#                  'stopper': {'path': 'mei.stoppers.EarlyStopping',\n",
    "#                   'kwargs': {'patience': 20, \"min_iter\": 200}},\n",
    "#                  'objectives': [{'path': 'mei.objectives.EvaluationObjective',\n",
    "#                    'kwargs': {'interval': 10}}],\n",
    "#                  'device': 'cuda',\n",
    "#                  'mei_class_name': 'VEI',\n",
    "#                  'ref_level': 1.,\n",
    "#                  \"variance_optimization\": \"min\",\n",
    "#                  \"scale\": 100,\n",
    "#                  \"dx\": 0.02,\n",
    "#                  }\n",
    "# method_comment = \"VEI-, 1., 0.02\"\n",
    "\n",
    "# MEIMethod().add_method(method_fn, method_config, comment=method_comment)\n",
    "# MEIMethod()"
   ]
  },
  {
   "cell_type": "markdown",
   "metadata": {},
   "source": [
    "# Get good neurons"
   ]
  },
  {
   "cell_type": "code",
   "execution_count": 68,
   "metadata": {
    "tags": []
   },
   "outputs": [
    {
     "name": "stdout",
     "output_type": "stream",
     "text": [
      "Returning only test sampler with repeats...\n"
     ]
    },
    {
     "name": "stderr",
     "output_type": "stream",
     "text": [
      "/project/nnsysident/utility/measures.py:257: VisibleDeprecationWarning: Creating an ndarray from ragged nested sequences (which is a list-or-tuple of lists-or-tuples-or ndarrays with different lengths or shapes) is deprecated. If you meant to do this, you must specify 'dtype=object' when creating the ndarray.\n",
      "  return np.array(repeated_inputs), np.array(repeated_outputs)\n"
     ]
    }
   ],
   "source": [
    "from nnsysident.datasets.mouse_loaders import static_loaders\n",
    "from nnsysident.utility.measures import get_oracles\n",
    "\n",
    "# ensemble_comment = 'gamma models, modulator, shifter'\n",
    "# ensemble_comment = 'gamma models'\n",
    "ensemble_comment = 'zig models, modulator, shifter, best 5 val loss out of 15 models, Jiakun dataset'\n",
    "\n",
    "\n",
    "ensemble_hash, dataset_hash = (TrainedEnsembleModel() & f\"ensemble_comment = '{ensemble_comment}'\").fetch1(\"ensemble_hash\", \"dataset_hash\")\n",
    "\n",
    "dataset_config = (Dataset() & f\"dataset_hash = '{dataset_hash}'\").fetch1(\"dataset_config\")\n",
    "dataset_config[\"return_test_sampler\"] = True\n",
    "dataset_config[\"tier\"] = \"test\"\n",
    "dataset_config['loader_outputs'] = ['images', 'responses']\n",
    "dataset_config['subtract_behavior_mean'] = False\n",
    "\n",
    "dataloaders = static_loaders(**dataset_config)\n",
    "oracles = get_oracles(dataloaders[\"test\"])\n",
    "\n",
    "idx = np.argsort(oracles)\n",
    "percentile = int(0.1*len(idx))\n",
    "selected_idx = idx[-percentile:]\n",
    "unit_ids = (MEISelector() & \"unit_index in {}\".format(tuple(selected_idx))).fetch(\"unit_id\")[:10]"
   ]
  },
  {
   "cell_type": "code",
   "execution_count": 8,
   "metadata": {
    "tags": []
   },
   "outputs": [],
   "source": [
    "ensemble_comment = 'Monkey V1 Gamma Model, PointPooled'\n",
    "ensemble_hash = (TrainedEnsembleModel() &\n",
    "                 f\"ensemble_comment = '{ensemble_comment}'\").fetch1(\"ensemble_hash\")\n",
    "monkey_data_key = \"3631807112901\"\n",
    "unit_ids = (Recording.Units() & f\"data_key = '{monkey_data_key}'\").fetch(\"unit_id\")[:10]"
   ]
  },
  {
   "cell_type": "code",
   "execution_count": 125,
   "metadata": {
    "tags": []
   },
   "outputs": [
    {
     "name": "stdout",
     "output_type": "stream",
     "text": [
      "Correlation:\n",
      "Poisson: 0.27654999999999996\n",
      "Gamma: 0.3103102\n",
      "ZIG: 0.2747288\n",
      "\n",
      "Loss:\n",
      "Poisson: 0.7987650000000001\n",
      "Gamma: -7.092728666666668\n",
      "ZIG: -8.060051999999999\n"
     ]
    }
   ],
   "source": [
    "print(\"Correlation:\")\n",
    "print(\"Poisson: \" + str((TrainedModel() & \"model_fn like '%poisson%'\").fetch(\"test_correlation\").mean()))\n",
    "print(\"Gamma: \" + str((TrainedModel() & \"model_fn like '%gamma%'\").fetch(\"test_correlation\").mean()))\n",
    "print(\"ZIG: \" + str((TrainedModel() & \"model_fn like '%zig%'\").fetch(\"test_correlation\").mean()))\n",
    "\n",
    "print(\"\")\n",
    "\n",
    "print(\"Loss:\")\n",
    "print(\"Poisson: \" + str((TrainedModel() & \"model_fn like '%poisson%'\").fetch(\"test_loss\").mean()))\n",
    "print(\"Gamma: \" + str((TrainedModel() & \"model_fn like '%gamma%'\").fetch(\"test_loss\").mean()))\n",
    "print(\"ZIG: \" + str((TrainedModel() & \"model_fn like '%zig%'\").fetch(\"test_loss\").mean()))"
   ]
  },
  {
   "cell_type": "markdown",
   "metadata": {},
   "source": [
    "## Code for designing experiments"
   ]
  },
  {
   "cell_type": "code",
   "execution_count": 3,
   "metadata": {
    "tags": []
   },
   "outputs": [],
   "source": [
    "key = dj.AndList([\"dataset_fn = 'nnsysident.datasets.mouse_loaders.static_loaders'\",\n",
    "         \"dataset_hash = '77fecfed4eaa33736d47244f2c14b36b'\",\n",
    "         \"model_fn = 'nnsysident.models.models.stacked2d_gamma'\",\n",
    "         \"model_hash = 'ea7c8ee30c9f5ab0a632392c3a4b32c0'\",\n",
    "         \"trainer_fn = 'nnsysident.training.trainers.standard_trainer'\",\n",
    "         \"trainer_hash = '69601593d387758e9ff6a5bf26dd6739'\",\n",
    "         \"seed in (6, 7, 8, 9, 10)\"])\n",
    "entries = (TrainedModel & key).proj().fetch(as_dict=True)\n",
    "len(entries)\n",
    "TrainedEnsembleModel().create_ensemble(entries, comment=\"gamma models, modulator, shifter, alternative ensemble0\", skip_duplicates=True)"
   ]
  },
  {
   "cell_type": "code",
   "execution_count": 123,
   "metadata": {
    "tags": []
   },
   "outputs": [],
   "source": [
    "entries = (MEIExperimentsMouse().Restrictions()  & \"experiment_name = 'Mouse V1, mu=0.8, gamma models, modulator, shifter, Zhiwei0'\").proj().fetch(as_dict=True)\n",
    "for entry in entries:\n",
    "    entry[\"ensemble_hash\"] = \"c2c201b30ede9f7df271d45d78ba27cd\"\n",
    "    del entry[\"experiment_name\"]\n",
    "    # entry[\"data_key\"] = \"26614-1-16-0\"\n",
    "    # entry[\"dataset_hash\"] = \"2ea3ee9f182eace63e8598e029ca94a3\"\n",
    "    if entry[\"method_hash\"] == \"06d3810135ef79811be0c8b7bcae9482\":\n",
    "        entry[\"method_hash\"] = \"f36b2ca6ab7b71e91ad190192b7da9ea\""
   ]
  },
  {
   "cell_type": "code",
   "execution_count": 56,
   "metadata": {
    "tags": []
   },
   "outputs": [],
   "source": [
    "all_entries = []\n",
    "for entry in entries:\n",
    "    \n",
    "    for unit_id in [1056, 3853, 1673, 2102, 6831, 4794, 6816, 6362, 5132]:\n",
    "        x = entry.copy()\n",
    "        x[\"unit_id\"] = unit_id\n",
    "        all_entries.append(x)"
   ]
  },
  {
   "cell_type": "code",
   "execution_count": 126,
   "metadata": {
    "tags": []
   },
   "outputs": [],
   "source": [
    "MEIExperimentsMouse().add_entry('Zhiwei0, alternative ensemble, OneValue init', \n",
    "                                \"kklurz\",\n",
    "                                \"MEI, CEI, VEI+, VEI- for Mouse V1 with 0.8 MEI activation, gamma models with modulator and shifter, dataset from Zhiwei, alternative ensemble0, OneValue init\",\n",
    "                                entries)"
   ]
  },
  {
   "cell_type": "code",
   "execution_count": 180,
   "metadata": {
    "tags": []
   },
   "outputs": [],
   "source": [
    "keys = [ 'dataset_fn',\n",
    " 'dataset_hash',\n",
    " 'ensemble_hash',\n",
    " 'method_fn',\n",
    " 'method_hash',\n",
    " 'unit_id',\n",
    " 'data_key']\n",
    "entries = (MEIExperimentsMouse().Restrictions() & \"experiment_name = 'Mouse V1, mu=0.8, gamma models'\").proj().fetch(*keys, as_dict=True)\n",
    "restrictions = []\n",
    "for entry in entries:\n",
    "    new_entry = entry.copy()\n",
    "    new_entry[\"ensemble_hash\"] = 'd2afd0862079b312683842967c4f9446'\n",
    "    restrictions.append(new_entry)\n",
    "# MEIExperimentsMouse().add_entry(\"Mouse V1, mu=0.8, poisson models\", \"kklurz\", \"MEI, CEI, VEI+, VEI- for Mouse V1 with 0.8 MEI activation, gamma models\", restrictions, skip_duplicates=True)"
   ]
  },
  {
   "cell_type": "markdown",
   "metadata": {},
   "source": [
    "___"
   ]
  },
  {
   "cell_type": "code",
   "execution_count": 17,
   "metadata": {
    "tags": []
   },
   "outputs": [],
   "source": [
    "table = pd.DataFrame((MEIExperimentsMouse.Restrictions & 'experiment_name=\"{}\"'.format(\"Different L1 weights, CEI (0.8)\")).proj().fetch(as_dict=True)).drop(columns=\"experiment_name\")\n",
    "\n",
    "old_hashes = table[\"method_hash\"].unique()\n",
    "method_hashes = (MEIMethod & \"method_comment like '%CEI, 0.8, l1_init:%'\").fetch(\"method_hash\")\n",
    "\n",
    "table.replace(old_hashes, method_hashes, inplace=True)\n",
    "restrictions = table.to_dict(\"records\")"
   ]
  },
  {
   "cell_type": "code",
   "execution_count": 15,
   "metadata": {
    "tags": []
   },
   "outputs": [],
   "source": [
    "unique_dict = {}\n",
    "for col in table.columns:\n",
    "    unique_dict[col] = np.unique(table[col])"
   ]
  },
  {
   "cell_type": "code",
   "execution_count": 18,
   "metadata": {
    "tags": []
   },
   "outputs": [],
   "source": [
    "MEIExperimentsMouse().add_entry(\"Post-optimization of CEIs (0.8) created with different L1 weights\", \n",
    "                                \"kklurz\",\n",
    "                                \"Optimize CEIs (0.8 MEI) without regularizer from CEIs which had been made with a L1 regularizer, cut the gradient for not needed pixels. No overall norm applied\",\n",
    "                                restrictions)"
   ]
  },
  {
   "cell_type": "markdown",
   "metadata": {},
   "source": [
    "### Populate MEIs"
   ]
  },
  {
   "cell_type": "code",
   "execution_count": null,
   "metadata": {},
   "outputs": [],
   "source": [
    "unit_ids = np.sort((((Dataset & \"dataset_hash = 'd4869853a4fd946b12adf99b70f9f1cf'\")) * MEISelector).fetch(\"unit_id\"))[:250]\n",
    "MEI.populate(\"method_hash = '54f863f93364931f53ecdfe7c2bc5a03'\",\n",
    "             \"dataset_hash = 'd4869853a4fd946b12adf99b70f9f1cf'\",\n",
    "             \"unit_id in {}\".format(tuple(unit_ids)),\n",
    "             \"ensemble_hash = '89233087b4af73dfea4dbca1fbc841d0'\", reserve_jobs=True)"
   ]
  },
  {
   "cell_type": "markdown",
   "metadata": {},
   "source": [
    "### Different L1 experiment"
   ]
  },
  {
   "cell_type": "code",
   "execution_count": 153,
   "metadata": {
    "tags": []
   },
   "outputs": [],
   "source": [
    "def extract_l1(dictionary):\n",
    "    l1 = dictionary[\"regularization\"][\"kwargs\"][\"weight\"]\n",
    "    return l1"
   ]
  },
  {
   "cell_type": "code",
   "execution_count": 287,
   "metadata": {
    "tags": []
   },
   "outputs": [],
   "source": [
    "experiment_name = \"Different L1 weights, CEI (0.8)\" #\"Post-optimization of CEIs (0.8) created with different L1 weights\"\n",
    "table = (MEIExperimentsMouse.Restrictions() & f\"experiment_name = '{experiment_name}'\" & \"unit_id=32\")\n",
    "\n",
    "df = pd.DataFrame.from_dict((MEIMethod & table).fetch(as_dict=True))\n",
    "df[\"l1\"] = df[\"method_config\"].apply(lambda x: pd.Series(extract_l1(x)))\n",
    "df = df.loc[df[\"l1\"] <= 5e-5].sort_values(\"l1\").reset_index(drop=True).iloc[::2]"
   ]
  },
  {
   "cell_type": "code",
   "execution_count": 288,
   "metadata": {
    "tags": []
   },
   "outputs": [],
   "source": [
    "aa = pd.DataFrame.from_dict((table & \"method_hash in {}\".format(tuple(df[\"method_hash\"]))).fetch(as_dict=True))\n",
    "aa.drop(columns=[\"experiment_name\", \"experiment_restriction_ts\"], inplace=True)\n",
    "\n",
    "restrictions = []\n",
    "for unit_id in unit_ids:\n",
    "    aa[\"unit_id\"] = unit_id\n",
    "    restrictions += aa.to_dict(\"records\")"
   ]
  },
  {
   "cell_type": "code",
   "execution_count": 289,
   "metadata": {
    "tags": []
   },
   "outputs": [],
   "source": [
    "MEIExperimentsMouse().add_entry(\"Different L1 weights, CEI (0.8), many neurons\", \n",
    "                                \"kklurz\",\n",
    "                                \"Change the size of the CEI (0.8 MEI) using different weights of L1 regularizer. No overall norm applied. Many Neurons but less fine grained in L1\",\n",
    "                                restrictions)"
   ]
  },
  {
   "cell_type": "markdown",
   "metadata": {},
   "source": [
    "### Post-optimization of different L1 experiment"
   ]
  },
  {
   "cell_type": "code",
   "execution_count": 295,
   "metadata": {
    "tags": []
   },
   "outputs": [],
   "source": [
    "def extract_l1(dictionary):\n",
    "    l1 = dictionary[\"initial\"][\"kwargs\"][\"l1\"]\n",
    "    return l1"
   ]
  },
  {
   "cell_type": "code",
   "execution_count": 296,
   "metadata": {
    "tags": []
   },
   "outputs": [],
   "source": [
    "experiment_name = \"Post-optimization of CEIs (0.8) created with different L1 weights\"\n",
    "table = (MEIExperimentsMouse.Restrictions() & f\"experiment_name = '{experiment_name}'\" & \"unit_id=32\")\n",
    "\n",
    "df = pd.DataFrame.from_dict((MEIMethod & table).fetch(as_dict=True))\n",
    "df[\"l1\"] = df[\"method_config\"].apply(lambda x: pd.Series(extract_l1(x)))\n",
    "df = df.loc[df[\"l1\"] <= 5e-5].sort_values(\"l1\").reset_index(drop=True).iloc[::2]"
   ]
  },
  {
   "cell_type": "code",
   "execution_count": 298,
   "metadata": {
    "tags": []
   },
   "outputs": [],
   "source": [
    "aa = pd.DataFrame.from_dict((table & \"method_hash in {}\".format(tuple(df[\"method_hash\"]))).fetch(as_dict=True))\n",
    "aa.drop(columns=[\"experiment_name\", \"experiment_restriction_ts\"], inplace=True)\n",
    "\n",
    "restrictions = []\n",
    "for unit_id in unit_ids:\n",
    "    aa[\"unit_id\"] = unit_id\n",
    "    restrictions += aa.to_dict(\"records\")"
   ]
  },
  {
   "cell_type": "code",
   "execution_count": 301,
   "metadata": {
    "tags": []
   },
   "outputs": [],
   "source": [
    "MEIExperimentsMouse().add_entry(\"Post-optimization of CEIs (0.8) created with different L1 weights, many neurons\", \n",
    "                                \"kklurz\",\n",
    "                                \"Optimize CEIs (0.8 MEI) without regularizer from CEIs which had been made with a L1 regularizer, cut the gradient for not needed pixels. No overall norm applied. Many Neurons but less fine grained in L1\",\n",
    "                                restrictions)"
   ]
  },
  {
   "cell_type": "code",
   "execution_count": null,
   "metadata": {},
   "outputs": [],
   "source": []
  }
 ],
 "metadata": {
  "kernelspec": {
   "display_name": "Python 3 (ipykernel)",
   "language": "python",
   "name": "python3"
  },
  "language_info": {
   "codemirror_mode": {
    "name": "ipython",
    "version": 3
   },
   "file_extension": ".py",
   "mimetype": "text/x-python",
   "name": "python",
   "nbconvert_exporter": "python",
   "pygments_lexer": "ipython3",
   "version": "3.9.16"
  }
 },
 "nbformat": 4,
 "nbformat_minor": 4
}
