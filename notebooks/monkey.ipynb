{
 "cells": [
  {
   "cell_type": "markdown",
   "metadata": {
    "jupyter": {
     "outputs_hidden": true
    }
   },
   "source": [
    "# Monkey System Identification Models"
   ]
  },
  {
   "cell_type": "code",
   "execution_count": 1,
   "metadata": {
    "tags": []
   },
   "outputs": [
    {
     "ename": "ModuleNotFoundError",
     "evalue": "No module named 'nnvision'",
     "output_type": "error",
     "traceback": [
      "\u001b[0;31m---------------------------------------------------------------------------\u001b[0m",
      "\u001b[0;31mModuleNotFoundError\u001b[0m                       Traceback (most recent call last)",
      "Cell \u001b[0;32mIn[1], line 4\u001b[0m\n\u001b[1;32m      1\u001b[0m \u001b[38;5;28;01mimport\u001b[39;00m \u001b[38;5;21;01mtorch\u001b[39;00m\n\u001b[1;32m      2\u001b[0m \u001b[38;5;28;01mimport\u001b[39;00m \u001b[38;5;21;01mnumpy\u001b[39;00m \u001b[38;5;28;01mas\u001b[39;00m \u001b[38;5;21;01mnp\u001b[39;00m\n\u001b[0;32m----> 4\u001b[0m \u001b[38;5;28;01mfrom\u001b[39;00m \u001b[38;5;21;01mnnvision\u001b[39;00m\u001b[38;5;21;01m.\u001b[39;00m\u001b[38;5;21;01mdatasets\u001b[39;00m\u001b[38;5;21;01m.\u001b[39;00m\u001b[38;5;21;01mmonkey_loaders\u001b[39;00m \u001b[38;5;28;01mimport\u001b[39;00m monkey_static_loader\n\u001b[1;32m      5\u001b[0m \u001b[38;5;28;01mfrom\u001b[39;00m \u001b[38;5;21;01mnnsysident\u001b[39;00m\u001b[38;5;21;01m.\u001b[39;00m\u001b[38;5;21;01mmodels\u001b[39;00m\u001b[38;5;21;01m.\u001b[39;00m\u001b[38;5;21;01mmodels\u001b[39;00m \u001b[38;5;28;01mimport\u001b[39;00m Stacked2dPointPooled_Poisson, Stacked2dPointPooled_Gamma, Stacked2dPointPooled_Gaussian\n\u001b[1;32m      6\u001b[0m \u001b[38;5;28;01mfrom\u001b[39;00m \u001b[38;5;21;01mnnsysident\u001b[39;00m\u001b[38;5;21;01m.\u001b[39;00m\u001b[38;5;21;01mtraining\u001b[39;00m\u001b[38;5;21;01m.\u001b[39;00m\u001b[38;5;21;01mtrainers\u001b[39;00m \u001b[38;5;28;01mimport\u001b[39;00m standard_trainer\n",
      "\u001b[0;31mModuleNotFoundError\u001b[0m: No module named 'nnvision'"
     ]
    }
   ],
   "source": [
    "import torch\n",
    "import numpy as np\n",
    "\n",
    "from nnvision.datasets.monkey_loaders import monkey_static_loader\n",
    "from nnsysident.models.models import Stacked2dPointPooled_Poisson, Stacked2dPointPooled_Gamma, Stacked2dPointPooled_Gaussian\n",
    "from nnsysident.training.trainers import standard_trainer\n",
    "from nnsysident.utility.measures import get_model_performance\n",
    "\n",
    "random_seed = 27121992\n",
    "device = 'cuda'"
   ]
  },
  {
   "cell_type": "markdown",
   "metadata": {
    "tags": []
   },
   "source": [
    "## Data"
   ]
  },
  {
   "cell_type": "code",
   "execution_count": 4,
   "metadata": {
    "tags": []
   },
   "outputs": [],
   "source": [
    "dataset_config = {'dataset': 'CSRF19_V1',\n",
    "                 'neuronal_data_files': [\n",
    "                  '../data/monkey/toliaslab/CSRF19_V1/neuronal_data/CSRF19_V1_3631896544452.pickle',\n",
    "                  '../data/monkey/toliaslab/CSRF19_V1/neuronal_data/CSRF19_V1_3632669014376.pickle',\n",
    "                  '../data/monkey/toliaslab/CSRF19_V1/neuronal_data/CSRF19_V1_3632932714885.pickle',\n",
    "                  '../data/monkey/toliaslab/CSRF19_V1/neuronal_data/CSRF19_V1_3633364677437.pickle',\n",
    "                  '../data/monkey/toliaslab/CSRF19_V1/neuronal_data/CSRF19_V1_3634055946316.pickle',\n",
    "                  '../data/monkey/toliaslab/CSRF19_V1/neuronal_data/CSRF19_V1_3634142311627.pickle',\n",
    "                  '../data/monkey/toliaslab/CSRF19_V1/neuronal_data/CSRF19_V1_3634658447291.pickle',\n",
    "                  '../data/monkey/toliaslab/CSRF19_V1/neuronal_data/CSRF19_V1_3634744023164.pickle',\n",
    "                  '../data/monkey/toliaslab/CSRF19_V1/neuronal_data/CSRF19_V1_3635178040531.pickle',\n",
    "                  '../data/monkey/toliaslab/CSRF19_V1/neuronal_data/CSRF19_V1_3635949043110.pickle',\n",
    "                  '../data/monkey/toliaslab/CSRF19_V1/neuronal_data/CSRF19_V1_3636034866307.pickle',\n",
    "                  '../data/monkey/toliaslab/CSRF19_V1/neuronal_data/CSRF19_V1_3636552742293.pickle',\n",
    "                  '../data/monkey/toliaslab/CSRF19_V1/neuronal_data/CSRF19_V1_3637161140869.pickle',\n",
    "                  '../data/monkey/toliaslab/CSRF19_V1/neuronal_data/CSRF19_V1_3637248451650.pickle',\n",
    "                  '../data/monkey/toliaslab/CSRF19_V1/neuronal_data/CSRF19_V1_3637333931598.pickle',\n",
    "                  '../data/monkey/toliaslab/CSRF19_V1/neuronal_data/CSRF19_V1_3637760318484.pickle',\n",
    "                  '../data/monkey/toliaslab/CSRF19_V1/neuronal_data/CSRF19_V1_3637851724731.pickle',\n",
    "                  '../data/monkey/toliaslab/CSRF19_V1/neuronal_data/CSRF19_V1_3638367026975.pickle',\n",
    "                  '../data/monkey/toliaslab/CSRF19_V1/neuronal_data/CSRF19_V1_3638456653849.pickle',\n",
    "                  '../data/monkey/toliaslab/CSRF19_V1/neuronal_data/CSRF19_V1_3638885582960.pickle',\n",
    "                  '../data/monkey/toliaslab/CSRF19_V1/neuronal_data/CSRF19_V1_3638373332053.pickle',\n",
    "                  '../data/monkey/toliaslab/CSRF19_V1/neuronal_data/CSRF19_V1_3638541006102.pickle',\n",
    "                  '../data/monkey/toliaslab/CSRF19_V1/neuronal_data/CSRF19_V1_3638802601378.pickle',\n",
    "                  '../data/monkey/toliaslab/CSRF19_V1/neuronal_data/CSRF19_V1_3638973674012.pickle',\n",
    "                  '../data/monkey/toliaslab/CSRF19_V1/neuronal_data/CSRF19_V1_3639060843972.pickle',\n",
    "                  '../data/monkey/toliaslab/CSRF19_V1/neuronal_data/CSRF19_V1_3639406161189.pickle',\n",
    "                  '../data/monkey/toliaslab/CSRF19_V1/neuronal_data/CSRF19_V1_3640011636703.pickle',\n",
    "                  '../data/monkey/toliaslab/CSRF19_V1/neuronal_data/CSRF19_V1_3639664527524.pickle',\n",
    "                  '../data/monkey/toliaslab/CSRF19_V1/neuronal_data/CSRF19_V1_3639492658943.pickle',\n",
    "                  '../data/monkey/toliaslab/CSRF19_V1/neuronal_data/CSRF19_V1_3639749909659.pickle',\n",
    "                  '../data/monkey/toliaslab/CSRF19_V1/neuronal_data/CSRF19_V1_3640095265572.pickle',\n",
    "                  '../data/monkey/toliaslab/CSRF19_V1/neuronal_data/CSRF19_V1_3631807112901.pickle'],\n",
    "                 'image_cache_path': '../data/monkey/toliaslab/CSRF19_V1/images/individual',\n",
    "                 'crop': 70,\n",
    "                 'subsample': 1,\n",
    "                 'seed': 1000,\n",
    "                 'time_bins_sum': 12,\n",
    "                 'batch_size': 128}\n",
    "\n",
    "dataloaders = monkey_static_loader(**dataset_config)"
   ]
  },
  {
   "cell_type": "markdown",
   "metadata": {},
   "source": [
    "## Model"
   ]
  },
  {
   "cell_type": "code",
   "execution_count": 5,
   "metadata": {
    "tags": []
   },
   "outputs": [],
   "source": [
    "poisson_model_config =  {'layers': 3,\n",
    "                         'input_kern': 24,\n",
    "                         'gamma_input': 10,\n",
    "                         'gamma_readout': 0.5,\n",
    "                         'hidden_dilation': 2,\n",
    "                         'hidden_kern': 9,\n",
    "                         'hidden_channels': 32}"
   ]
  },
  {
   "cell_type": "code",
   "execution_count": 6,
   "metadata": {
    "tags": []
   },
   "outputs": [
    {
     "name": "stderr",
     "output_type": "stream",
     "text": [
      "/usr/local/lib/python3.8/dist-packages/neuralpredictors/layers/cores/conv2d.py:156: UserWarning: The averaged value of regularizer will be used.\n",
      "  warnings.warn(\"The averaged value of regularizer will be used.\", UserWarning)\n",
      "/usr/local/lib/python3.8/dist-packages/neuralpredictors/layers/readouts/base.py:72: UserWarning: Use of 'gamma_readout' is deprecated. Please consider using the readout's feature-regularization parameter instead\n",
      "  warnings.warn(\n"
     ]
    }
   ],
   "source": [
    "poisson_model = Stacked2dPointPooled_Poisson().build_model(dataloaders, random_seed, **poisson_model_config)"
   ]
  },
  {
   "cell_type": "markdown",
   "metadata": {},
   "source": [
    "## Training"
   ]
  },
  {
   "cell_type": "code",
   "execution_count": 5,
   "metadata": {},
   "outputs": [],
   "source": [
    "trainer_config = {'max_iter': 100,\n",
    "                  'verbose': False,\n",
    "                  'lr_decay_steps': 3,\n",
    "                  'avg_loss': False,\n",
    "                  'patience': 3,\n",
    "                  'lr_init': 0.0042,\n",
    "                  'device': device}"
   ]
  },
  {
   "cell_type": "code",
   "execution_count": 6,
   "metadata": {
    "tags": []
   },
   "outputs": [
    {
     "name": "stderr",
     "output_type": "stream",
     "text": [
      "Epoch 1: 100% 3616/3616 [02:52<00:00, 20.96it/s]\n",
      "Epoch 2: 100% 3616/3616 [02:52<00:00, 21.00it/s]\n",
      "Epoch 3: 100% 3616/3616 [02:52<00:00, 20.97it/s]\n",
      "Epoch 4: 100% 3616/3616 [02:52<00:00, 20.98it/s]\n",
      "Epoch 5: 100% 3616/3616 [02:52<00:00, 20.97it/s]\n",
      "Epoch 6: 100% 3616/3616 [02:52<00:00, 20.94it/s]\n",
      "Epoch 7: 100% 3616/3616 [02:52<00:00, 20.97it/s]\n",
      "Epoch 8: 100% 3616/3616 [02:52<00:00, 20.96it/s]\n",
      "Epoch 9: 100% 3616/3616 [02:52<00:00, 20.96it/s]\n",
      "Epoch 10: 100% 3616/3616 [02:52<00:00, 20.97it/s]\n",
      "Epoch 11: 100% 3616/3616 [02:52<00:00, 20.97it/s]\n",
      "Epoch 12: 100% 3616/3616 [02:52<00:00, 20.96it/s]\n",
      "Epoch 13: 100% 3616/3616 [02:52<00:00, 20.92it/s]\n",
      "Epoch 14: 100% 3616/3616 [02:52<00:00, 20.94it/s]\n",
      "Epoch 15: 100% 3616/3616 [02:52<00:00, 20.97it/s]\n",
      "Epoch 16: 100% 3616/3616 [02:52<00:00, 20.92it/s]\n",
      "Epoch 17: 100% 3616/3616 [02:52<00:00, 20.94it/s]\n",
      "Epoch 18: 100% 3616/3616 [02:52<00:00, 20.96it/s]\n",
      "Epoch 19: 100% 3616/3616 [02:52<00:00, 20.94it/s]\n",
      "Epoch 20: 100% 3616/3616 [02:52<00:00, 20.98it/s]\n",
      "Epoch 21: 100% 3616/3616 [02:52<00:00, 20.98it/s]\n",
      "Epoch 22: 100% 3616/3616 [02:52<00:00, 20.97it/s]\n",
      "Epoch 23: 100% 3616/3616 [02:52<00:00, 20.98it/s]\n",
      "Epoch 24: 100% 3616/3616 [02:52<00:00, 20.96it/s]\n",
      "Epoch 25: 100% 3616/3616 [02:52<00:00, 20.98it/s]\n",
      "Epoch 26: 100% 3616/3616 [02:52<00:00, 20.96it/s]\n",
      "Epoch 27: 100% 3616/3616 [02:52<00:00, 20.96it/s]\n",
      "Epoch 28: 100% 3616/3616 [02:52<00:00, 20.98it/s]\n",
      "Epoch 29: 100% 3616/3616 [02:52<00:00, 20.98it/s]\n",
      "Epoch 30: 100% 3616/3616 [02:52<00:00, 20.97it/s]\n",
      "Epoch 31: 100% 3616/3616 [02:52<00:00, 20.97it/s]\n",
      "Epoch 32: 100% 3616/3616 [02:52<00:00, 20.98it/s]\n",
      "Epoch 33: 100% 3616/3616 [02:52<00:00, 20.98it/s]\n",
      "Epoch 34: 100% 3616/3616 [02:52<00:00, 20.97it/s]\n",
      "Epoch 35: 100% 3616/3616 [02:52<00:00, 20.97it/s]\n",
      "Epoch 36: 100% 3616/3616 [02:52<00:00, 20.91it/s]\n",
      "Epoch 37: 100% 3616/3616 [02:52<00:00, 20.92it/s]\n",
      "Epoch 38: 100% 3616/3616 [02:52<00:00, 20.93it/s]\n",
      "Epoch 39: 100% 3616/3616 [02:52<00:00, 20.97it/s]\n",
      "Epoch 40: 100% 3616/3616 [02:52<00:00, 20.98it/s]\n",
      "Epoch 41: 100% 3616/3616 [02:52<00:00, 20.98it/s]\n",
      "Epoch 42: 100% 3616/3616 [02:52<00:00, 20.98it/s]\n",
      "Epoch 43: 100% 3616/3616 [02:52<00:00, 20.98it/s]\n",
      "Epoch 44: 100% 3616/3616 [02:52<00:00, 20.97it/s]\n",
      "Epoch 45: 100% 3616/3616 [02:52<00:00, 20.98it/s]\n",
      "Epoch 46: 100% 3616/3616 [02:52<00:00, 20.98it/s]\n"
     ]
    }
   ],
   "source": [
    "poisson_score, poisson_output, poisson_state_dict = standard_trainer(poisson_model,\n",
    "                                                                     dataloaders,\n",
    "                                                                     random_seed,\n",
    "                                                                     loss_function=\"PoissonLoss\",\n",
    "                                                                     **trainer_config)"
   ]
  },
  {
   "cell_type": "code",
   "execution_count": null,
   "metadata": {},
   "outputs": [],
   "source": [
    "# torch.save(poisson_state_dict, \"monkeyV1_pointpooled_poisson_statedict\" + \".tar\")"
   ]
  },
  {
   "cell_type": "code",
   "execution_count": 8,
   "metadata": {},
   "outputs": [
    {
     "name": "stderr",
     "output_type": "stream",
     "text": [
      "/usr/local/lib/python3.8/dist-packages/neuralpredictors/measures/modules.py:78: UserWarning: Poissonloss is averaged per batch. It's recommended to use `sum` instead\n",
      "  warnings.warn(\"Poissonloss is averaged per batch. It's recommended to use `sum` instead\")\n"
     ]
    },
    {
     "name": "stdout",
     "output_type": "stream",
     "text": [
      "c̲o̲r̲r̲e̲l̲a̲t̲i̲o̲n̲ \n",
      "\n",
      "train:        0.432 \n",
      "validation:   0.409 \n",
      "test:         0.397 \n",
      "\n",
      "l̲o̲s̲s̲ \n",
      "\n",
      "train:        -0.413 \n",
      "validation:   -0.414 \n",
      "test:         -0.365 \n",
      "\n"
     ]
    }
   ],
   "source": [
    "poisson_performance = get_model_performance(poisson_model, dataloaders, \"PoissonLoss\", device=device)"
   ]
  }
 ],
 "metadata": {
  "kernelspec": {
   "display_name": "Python 3 (ipykernel)",
   "language": "python",
   "name": "python3"
  },
  "language_info": {
   "codemirror_mode": {
    "name": "ipython",
    "version": 3
   },
   "file_extension": ".py",
   "mimetype": "text/x-python",
   "name": "python",
   "nbconvert_exporter": "python",
   "pygments_lexer": "ipython3",
   "version": "3.9.16"
  }
 },
 "nbformat": 4,
 "nbformat_minor": 4
}
