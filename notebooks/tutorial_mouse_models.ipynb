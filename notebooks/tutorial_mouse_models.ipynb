{
 "cells": [
  {
   "cell_type": "markdown",
   "metadata": {
    "jupyter": {
     "outputs_hidden": true
    }
   },
   "source": [
    "# Mouse System Identification Models"
   ]
  },
  {
   "cell_type": "code",
   "execution_count": 1,
   "metadata": {
    "tags": []
   },
   "outputs": [
    {
     "name": "stderr",
     "output_type": "stream",
     "text": [
      "/usr/local/lib/python3.9/dist-packages/torchvision/io/image.py:13: UserWarning: Failed to load image Python extension: libtorch_cuda_cu.so: cannot open shared object file: No such file or directory\n",
      "  warn(f\"Failed to load image Python extension: {e}\")\n"
     ]
    },
    {
     "name": "stdout",
     "output_type": "stream",
     "text": [
      "Connecting konstantin@134.76.19.44:3306\n"
     ]
    }
   ],
   "source": [
    "import torch\n",
    "import numpy as np\n",
    "\n",
    "from nnsysident.training.trainers import standard_trainer\n",
    "from nnsysident.models.models import stacked2d_gamma, stacked2d_zig, stacked2d_poisson\n",
    "from nnsysident.datasets.mouse_loaders import static_loaders\n",
    "from nnsysident.utility.data_helpers import extract_data_key\n",
    "from nnsysident.utility.measures import get_model_performance\n",
    "\n",
    "random_seed = 27121992\n",
    "device = 'cuda'"
   ]
  },
  {
   "cell_type": "markdown",
   "metadata": {},
   "source": [
    "___"
   ]
  },
  {
   "cell_type": "markdown",
   "metadata": {
    "tags": []
   },
   "source": [
    "## Data"
   ]
  },
  {
   "cell_type": "code",
   "execution_count": 2,
   "metadata": {
    "tags": []
   },
   "outputs": [],
   "source": [
    "paths = ['/project/notebooks/data/static20457-5-9-preproc0']\n",
    "\n",
    "data_key = extract_data_key(paths[0])\n",
    "\n",
    "dataset_config = {'paths': paths,\n",
    "                  'batch_size': 64,\n",
    "                  'seed': random_seed,\n",
    "                  'loader_outputs': [\"images\", \"responses\"],\n",
    "                  'normalize': True,\n",
    "                  'exclude': [\"images\"],\n",
    "                  }\n",
    "\n",
    "dataloaders = static_loaders(**dataset_config)"
   ]
  },
  {
   "cell_type": "markdown",
   "metadata": {},
   "source": [
    "## Model"
   ]
  },
  {
   "cell_type": "code",
   "execution_count": 3,
   "metadata": {
    "tags": []
   },
   "outputs": [],
   "source": [
    "model_config_base = {\"hidden_kern\": 13,\n",
    "                     \"input_kern\": 15,\n",
    "                     \"init_sigma\": 0.4,\n",
    "                     'init_mu_range': 0.55,\n",
    "                     'gamma_input': 1.0,\n",
    "                     'grid_mean_predictor': {'type': 'cortex',\n",
    "                                              'input_dimensions': 2,\n",
    "                                              'hidden_layers': 0,\n",
    "                                              'hidden_features': 0,\n",
    "                                              'final_tanh': False},\n",
    "                     \"feature_reg_weight\": 0.78,\n",
    "                     \"readout_type\": \"MultipleGeneralizedFullGaussian2d\",\n",
    "                    }"
   ]
  },
  {
   "cell_type": "markdown",
   "metadata": {},
   "source": [
    "#### ZIG model"
   ]
  },
  {
   "cell_type": "code",
   "execution_count": 4,
   "metadata": {
    "tags": []
   },
   "outputs": [
    {
     "name": "stderr",
     "output_type": "stream",
     "text": [
      "/usr/local/lib/python3.9/dist-packages/neuralpredictors/layers/cores/conv2d.py:161: UserWarning: The averaged value of regularizer will be used.\n",
      "  warnings.warn(\"The averaged value of regularizer will be used.\", UserWarning)\n"
     ]
    }
   ],
   "source": [
    "loc = np.exp(-10)\n",
    "\n",
    "zig_model_config = model_config_base.copy()\n",
    "zig_model_config['zero_thresholds'] = loc\n",
    "\n",
    "zig_model = stacked2d_zig(dataloaders, random_seed, **zig_model_config)"
   ]
  },
  {
   "cell_type": "markdown",
   "metadata": {},
   "source": [
    "If you want to load a state_dict, run this cell. If the state_dict is transferred from a model which was trained on another dataset, set `strict=False`.\n",
    "In this case, you will need to fine tune the readout of the model using the new dataset. For this, set `detach_core=True` in the trainer_config"
   ]
  },
  {
   "cell_type": "code",
   "execution_count": 6,
   "metadata": {
    "tags": []
   },
   "outputs": [],
   "source": [
    "# zig_model.load_state_dict(torch.load(\"ZIG_statedict\" + data_key + \".pt\"), strict=True)"
   ]
  },
  {
   "cell_type": "markdown",
   "metadata": {},
   "source": [
    "#### Poisson model"
   ]
  },
  {
   "cell_type": "code",
   "execution_count": 7,
   "metadata": {
    "tags": []
   },
   "outputs": [],
   "source": [
    "poisson_model_config = model_config_base.copy()\n",
    "poisson_model = stacked2d_poisson(dataloaders, random_seed, **poisson_model_config)"
   ]
  },
  {
   "cell_type": "markdown",
   "metadata": {},
   "source": [
    "If you want to load a state_dict, run this cell. If the state_dict is transferred from a model which was trained on another dataset, set `strict=False`.\n",
    "In this case, you will need to fine tune the readout of the model using the new dataset. For this, set `detach_core=True` in the trainer_config"
   ]
  },
  {
   "cell_type": "code",
   "execution_count": 8,
   "metadata": {
    "tags": []
   },
   "outputs": [],
   "source": [
    "# poisson_model.load_state_dict(torch.load(\"Poisson_statedict\" + data_key + \".pt\"), strict=True)"
   ]
  },
  {
   "cell_type": "markdown",
   "metadata": {},
   "source": [
    "#### Lurz model"
   ]
  },
  {
   "cell_type": "code",
   "execution_count": 5,
   "metadata": {
    "tags": []
   },
   "outputs": [
    {
     "name": "stderr",
     "output_type": "stream",
     "text": [
      "/usr/local/lib/python3.9/dist-packages/neuralpredictors/layers/cores/conv2d.py:125: UserWarning: The default of `independent_bn_bias=True` will ignore the kwargs `bias`, `batch_norm_scale`, and `final_batchnorm_scale` when initializing the batchnorm. If you want to use these arguments, please set `independent_bn_bias=False`.\n",
      "  warnings.warn(\n"
     ]
    }
   ],
   "source": [
    "model_config_lurz_model = model_config_base.copy()\n",
    "model_config_lurz_model['batch_norm_scale'] = False\n",
    "model_config_lurz_model['feature_reg_weight'] = 2.439\n",
    "model_config_lurz_model['independent_bn_bias'] = True\n",
    "model_config_lurz_model['init_with_lurz_core'] = True\n",
    "\n",
    "lurz_poisson_model = stacked2d_poisson(dataloaders, random_seed, **model_config_lurz_model)"
   ]
  },
  {
   "cell_type": "markdown",
   "metadata": {},
   "source": [
    "## Training"
   ]
  },
  {
   "cell_type": "markdown",
   "metadata": {},
   "source": [
    "Set `track_training=True` if you want to see more details how the training is going. If you only want to fine-tune the readout because the core was loaded, set `detach_core=True`."
   ]
  },
  {
   "cell_type": "code",
   "execution_count": 11,
   "metadata": {
    "tags": []
   },
   "outputs": [],
   "source": [
    "trainer_config_base = {\"track_training\": False,\n",
    "                       \"device\": device,\n",
    "                       \"detach_core\": False}"
   ]
  },
  {
   "cell_type": "markdown",
   "metadata": {},
   "source": [
    "#### ZIG model"
   ]
  },
  {
   "cell_type": "code",
   "execution_count": null,
   "metadata": {
    "tags": []
   },
   "outputs": [],
   "source": [
    "zig_score, zig_output, zig_state_dict = standard_trainer(zig_model,\n",
    "                                                         dataloaders,\n",
    "                                                         random_seed,\n",
    "                                                         loss_function=\"ZIGLoss\",\n",
    "                                                         stop_function=\"get_loss\",\n",
    "                                                         maximize=False,\n",
    "                                                         **trainer_config_base)\n",
    "# torch.save(zig_state_dict, \"mouseV1_gaussian_ZIG_statedict\" + data_key + \".tar\")"
   ]
  },
  {
   "cell_type": "code",
   "execution_count": 11,
   "metadata": {},
   "outputs": [
    {
     "name": "stdout",
     "output_type": "stream",
     "text": [
      "c̲o̲r̲r̲e̲l̲a̲t̲i̲o̲n̲ \n",
      "\n",
      "train:        0.305 \n",
      "validation:   0.253 \n",
      "test:         0.253 \n",
      "\n",
      "l̲o̲s̲s̲ \n",
      "\n",
      "train:        -8.130 \n",
      "validation:   -8.068 \n",
      "test:         -8.081 \n",
      "\n"
     ]
    }
   ],
   "source": [
    "zig_performance = get_model_performance(zig_model, dataloaders, \"ZIGLoss\", device=device)"
   ]
  },
  {
   "cell_type": "markdown",
   "metadata": {},
   "source": [
    "#### Poisson model"
   ]
  },
  {
   "cell_type": "code",
   "execution_count": null,
   "metadata": {
    "tags": []
   },
   "outputs": [],
   "source": [
    "poisson_score, poisson_output, poisson_state_dict = standard_trainer(poisson_model,\n",
    "                                                                     dataloaders,\n",
    "                                                                     random_seed,\n",
    "                                                                     loss_function=\"PoissonLoss\",\n",
    "                                                                     **trainer_config_base)\n",
    "# torch.save(poisson_state_dict, \"mouseV1_gaussian_Poisson_statedict\" + data_key + \".tar\")"
   ]
  },
  {
   "cell_type": "code",
   "execution_count": 13,
   "metadata": {},
   "outputs": [
    {
     "name": "stderr",
     "output_type": "stream",
     "text": [
      "/usr/local/lib/python3.8/dist-packages/neuralpredictors/measures/modules.py:78: UserWarning: Poissonloss is averaged per batch. It's recommended to use `sum` instead\n",
      "  warnings.warn(\"Poissonloss is averaged per batch. It's recommended to use `sum` instead\")\n"
     ]
    },
    {
     "name": "stdout",
     "output_type": "stream",
     "text": [
      "c̲o̲r̲r̲e̲l̲a̲t̲i̲o̲n̲ \n",
      "\n",
      "train:        0.377 \n",
      "validation:   0.278 \n",
      "test:         0.275 \n",
      "\n",
      "l̲o̲s̲s̲ \n",
      "\n",
      "train:        0.565 \n",
      "validation:   0.611 \n",
      "test:         0.617 \n",
      "\n"
     ]
    }
   ],
   "source": [
    "poisson_performance = get_model_performance(poisson_model, dataloaders, \"PoissonLoss\", device=device)"
   ]
  },
  {
   "cell_type": "markdown",
   "metadata": {},
   "source": [
    "#### Lurz model"
   ]
  },
  {
   "cell_type": "code",
   "execution_count": null,
   "metadata": {
    "tags": []
   },
   "outputs": [],
   "source": [
    "# Set 'detach_core' to True in order to only train the readout:\n",
    "lurz_model_trainer_config = trainer_config_base.copy()\n",
    "lurz_model_trainer_config[\"detach_core\"] = True\n",
    "\n",
    "lurz_poisson_score, lurz_poisson_output, lurz_poisson_state_dict = standard_trainer(lurz_poisson_model,\n",
    "                                                                     dataloaders,\n",
    "                                                                     random_seed,\n",
    "                                                                     loss_function=\"PoissonLoss\",\n",
    "                                                                     **lurz_model_trainer_config)\n",
    "# torch.save(lurz_poisson_state_dict, \"mouseV1_gaussian_lurz_Poisson_statedict\" + data_key + \".tar\")"
   ]
  },
  {
   "cell_type": "code",
   "execution_count": 15,
   "metadata": {},
   "outputs": [
    {
     "name": "stdout",
     "output_type": "stream",
     "text": [
      "c̲o̲r̲r̲e̲l̲a̲t̲i̲o̲n̲ \n",
      "\n",
      "train:        0.384 \n",
      "validation:   0.325 \n",
      "test:         0.324 \n",
      "\n",
      "l̲o̲s̲s̲ \n",
      "\n",
      "train:        0.562 \n",
      "validation:   0.587 \n",
      "test:         0.591 \n",
      "\n"
     ]
    }
   ],
   "source": [
    "lurz_performance = get_model_performance(lurz_poisson_model, dataloaders, \"PoissonLoss\", device=device)"
   ]
  },
  {
   "cell_type": "markdown",
   "metadata": {},
   "source": [
    "___"
   ]
  }
 ],
 "metadata": {
  "kernelspec": {
   "display_name": "Python 3 (ipykernel)",
   "language": "python",
   "name": "python3"
  },
  "language_info": {
   "codemirror_mode": {
    "name": "ipython",
    "version": 3
   },
   "file_extension": ".py",
   "mimetype": "text/x-python",
   "name": "python",
   "nbconvert_exporter": "python",
   "pygments_lexer": "ipython3",
   "version": "3.9.16"
  }
 },
 "nbformat": 4,
 "nbformat_minor": 4
}
